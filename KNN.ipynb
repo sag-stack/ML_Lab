{
 "cells": [
  {
   "cell_type": "code",
   "execution_count": 1,
   "id": "5f34e99e",
   "metadata": {
    "_cell_guid": "b1076dfc-b9ad-4769-8c92-a6c4dae69d19",
    "_uuid": "8f2839f25d086af736a60e9eeb907d3b93b6e0e5",
    "execution": {
     "iopub.execute_input": "2024-08-12T16:04:33.278224Z",
     "iopub.status.busy": "2024-08-12T16:04:33.277851Z",
     "iopub.status.idle": "2024-08-12T16:04:35.744172Z",
     "shell.execute_reply": "2024-08-12T16:04:35.743071Z"
    },
    "papermill": {
     "duration": 2.474625,
     "end_time": "2024-08-12T16:04:35.746977",
     "exception": false,
     "start_time": "2024-08-12T16:04:33.272352",
     "status": "completed"
    },
    "tags": []
   },
   "outputs": [],
   "source": [
    "# Import necessary libraries\n",
    "import pandas as pd\n",
    "import matplotlib.pyplot as plt\n",
    "import seaborn as sns\n",
    "from sklearn.model_selection import train_test_split as tts\n",
    "from sklearn.neighbors import KNeighborsClassifier as knn\n",
    "from sklearn.metrics import accuracy_score, classification_report\n",
    "from sklearn.preprocessing import StandardScaler\n",
    "import numpy as np\n"
   ]
  },
  {
   "cell_type": "markdown",
   "id": "2f64b968",
   "metadata": {
    "papermill": {
     "duration": 0.003138,
     "end_time": "2024-08-12T16:04:35.754041",
     "exception": false,
     "start_time": "2024-08-12T16:04:35.750903",
     "status": "completed"
    },
    "tags": []
   },
   "source": [
    "### Load and Explore the Dataset\n",
    "\n",
    "In this step, we'll load the training dataset and have a look at its structure.\n"
   ]
  },
  {
   "cell_type": "code",
   "execution_count": 2,
   "id": "610a2b85",
   "metadata": {
    "execution": {
     "iopub.execute_input": "2024-08-12T16:04:35.762744Z",
     "iopub.status.busy": "2024-08-12T16:04:35.762056Z",
     "iopub.status.idle": "2024-08-12T16:04:35.800221Z",
     "shell.execute_reply": "2024-08-12T16:04:35.799047Z"
    },
    "papermill": {
     "duration": 0.045164,
     "end_time": "2024-08-12T16:04:35.802626",
     "exception": false,
     "start_time": "2024-08-12T16:04:35.757462",
     "status": "completed"
    },
    "tags": []
   },
   "outputs": [
    {
     "data": {
      "text/html": [
       "<div>\n",
       "<style scoped>\n",
       "    .dataframe tbody tr th:only-of-type {\n",
       "        vertical-align: middle;\n",
       "    }\n",
       "\n",
       "    .dataframe tbody tr th {\n",
       "        vertical-align: top;\n",
       "    }\n",
       "\n",
       "    .dataframe thead th {\n",
       "        text-align: right;\n",
       "    }\n",
       "</style>\n",
       "<table border=\"1\" class=\"dataframe\">\n",
       "  <thead>\n",
       "    <tr style=\"text-align: right;\">\n",
       "      <th></th>\n",
       "      <th>Id</th>\n",
       "      <th>mass</th>\n",
       "      <th>width</th>\n",
       "      <th>height</th>\n",
       "      <th>label</th>\n",
       "    </tr>\n",
       "  </thead>\n",
       "  <tbody>\n",
       "    <tr>\n",
       "      <th>0</th>\n",
       "      <td>1</td>\n",
       "      <td>160</td>\n",
       "      <td>7.1</td>\n",
       "      <td>7.6</td>\n",
       "      <td>2</td>\n",
       "    </tr>\n",
       "    <tr>\n",
       "      <th>1</th>\n",
       "      <td>2</td>\n",
       "      <td>194</td>\n",
       "      <td>7.2</td>\n",
       "      <td>10.3</td>\n",
       "      <td>3</td>\n",
       "    </tr>\n",
       "    <tr>\n",
       "      <th>2</th>\n",
       "      <td>3</td>\n",
       "      <td>154</td>\n",
       "      <td>7.2</td>\n",
       "      <td>7.2</td>\n",
       "      <td>2</td>\n",
       "    </tr>\n",
       "    <tr>\n",
       "      <th>3</th>\n",
       "      <td>4</td>\n",
       "      <td>154</td>\n",
       "      <td>7.0</td>\n",
       "      <td>7.1</td>\n",
       "      <td>1</td>\n",
       "    </tr>\n",
       "    <tr>\n",
       "      <th>4</th>\n",
       "      <td>5</td>\n",
       "      <td>162</td>\n",
       "      <td>7.4</td>\n",
       "      <td>7.2</td>\n",
       "      <td>1</td>\n",
       "    </tr>\n",
       "  </tbody>\n",
       "</table>\n",
       "</div>"
      ],
      "text/plain": [
       "   Id  mass  width  height  label\n",
       "0   1   160    7.1     7.6      2\n",
       "1   2   194    7.2    10.3      3\n",
       "2   3   154    7.2     7.2      2\n",
       "3   4   154    7.0     7.1      1\n",
       "4   5   162    7.4     7.2      1"
      ]
     },
     "execution_count": 2,
     "metadata": {},
     "output_type": "execute_result"
    }
   ],
   "source": [
    "# Load the dataset\n",
    "df = pd.read_csv( \"/kaggle/input/classify-fruits-fall-2024-25-b-1/fruits_train.csv\" )\n",
    "df.head()\n",
    "\n"
   ]
  },
  {
   "cell_type": "markdown",
   "id": "db737ae7",
   "metadata": {
    "papermill": {
     "duration": 0.003474,
     "end_time": "2024-08-12T16:04:35.810069",
     "exception": false,
     "start_time": "2024-08-12T16:04:35.806595",
     "status": "completed"
    },
    "tags": []
   },
   "source": [
    "### Data Preprocessing\n",
    "\n",
    "Here, we'll separate the features and the labels, and apply standard scaling to the feature set.\n"
   ]
  },
  {
   "cell_type": "code",
   "execution_count": 3,
   "id": "393afae6",
   "metadata": {
    "execution": {
     "iopub.execute_input": "2024-08-12T16:04:35.818883Z",
     "iopub.status.busy": "2024-08-12T16:04:35.818481Z",
     "iopub.status.idle": "2024-08-12T16:04:35.834427Z",
     "shell.execute_reply": "2024-08-12T16:04:35.833433Z"
    },
    "papermill": {
     "duration": 0.023178,
     "end_time": "2024-08-12T16:04:35.836846",
     "exception": false,
     "start_time": "2024-08-12T16:04:35.813668",
     "status": "completed"
    },
    "tags": []
   },
   "outputs": [],
   "source": [
    "# Separate features and labels\n",
    "X = df.drop(columns=['Id', 'label'])\n",
    "Y = df['label']\n",
    "\n",
    "# Standardize the features\n",
    "scaler = StandardScaler()\n",
    "X = scaler.fit_transform(X)\n"
   ]
  },
  {
   "cell_type": "markdown",
   "id": "eda3a0b7",
   "metadata": {
    "papermill": {
     "duration": 0.003572,
     "end_time": "2024-08-12T16:04:35.844397",
     "exception": false,
     "start_time": "2024-08-12T16:04:35.840825",
     "status": "completed"
    },
    "tags": []
   },
   "source": [
    "### Train the K Nearest Neighbors (KNN) Model\n",
    "\n",
    "We'll train the KNN model using the training data. For this example, we'll start with 1 neighbor.\n"
   ]
  },
  {
   "cell_type": "code",
   "execution_count": 4,
   "id": "0a9ac4d1",
   "metadata": {
    "execution": {
     "iopub.execute_input": "2024-08-12T16:04:35.853555Z",
     "iopub.status.busy": "2024-08-12T16:04:35.853166Z",
     "iopub.status.idle": "2024-08-12T16:04:35.865432Z",
     "shell.execute_reply": "2024-08-12T16:04:35.864069Z"
    },
    "papermill": {
     "duration": 0.019861,
     "end_time": "2024-08-12T16:04:35.868110",
     "exception": false,
     "start_time": "2024-08-12T16:04:35.848249",
     "status": "completed"
    },
    "tags": []
   },
   "outputs": [
    {
     "data": {
      "text/html": [
       "<style>#sk-container-id-1 {color: black;background-color: white;}#sk-container-id-1 pre{padding: 0;}#sk-container-id-1 div.sk-toggleable {background-color: white;}#sk-container-id-1 label.sk-toggleable__label {cursor: pointer;display: block;width: 100%;margin-bottom: 0;padding: 0.3em;box-sizing: border-box;text-align: center;}#sk-container-id-1 label.sk-toggleable__label-arrow:before {content: \"▸\";float: left;margin-right: 0.25em;color: #696969;}#sk-container-id-1 label.sk-toggleable__label-arrow:hover:before {color: black;}#sk-container-id-1 div.sk-estimator:hover label.sk-toggleable__label-arrow:before {color: black;}#sk-container-id-1 div.sk-toggleable__content {max-height: 0;max-width: 0;overflow: hidden;text-align: left;background-color: #f0f8ff;}#sk-container-id-1 div.sk-toggleable__content pre {margin: 0.2em;color: black;border-radius: 0.25em;background-color: #f0f8ff;}#sk-container-id-1 input.sk-toggleable__control:checked~div.sk-toggleable__content {max-height: 200px;max-width: 100%;overflow: auto;}#sk-container-id-1 input.sk-toggleable__control:checked~label.sk-toggleable__label-arrow:before {content: \"▾\";}#sk-container-id-1 div.sk-estimator input.sk-toggleable__control:checked~label.sk-toggleable__label {background-color: #d4ebff;}#sk-container-id-1 div.sk-label input.sk-toggleable__control:checked~label.sk-toggleable__label {background-color: #d4ebff;}#sk-container-id-1 input.sk-hidden--visually {border: 0;clip: rect(1px 1px 1px 1px);clip: rect(1px, 1px, 1px, 1px);height: 1px;margin: -1px;overflow: hidden;padding: 0;position: absolute;width: 1px;}#sk-container-id-1 div.sk-estimator {font-family: monospace;background-color: #f0f8ff;border: 1px dotted black;border-radius: 0.25em;box-sizing: border-box;margin-bottom: 0.5em;}#sk-container-id-1 div.sk-estimator:hover {background-color: #d4ebff;}#sk-container-id-1 div.sk-parallel-item::after {content: \"\";width: 100%;border-bottom: 1px solid gray;flex-grow: 1;}#sk-container-id-1 div.sk-label:hover label.sk-toggleable__label {background-color: #d4ebff;}#sk-container-id-1 div.sk-serial::before {content: \"\";position: absolute;border-left: 1px solid gray;box-sizing: border-box;top: 0;bottom: 0;left: 50%;z-index: 0;}#sk-container-id-1 div.sk-serial {display: flex;flex-direction: column;align-items: center;background-color: white;padding-right: 0.2em;padding-left: 0.2em;position: relative;}#sk-container-id-1 div.sk-item {position: relative;z-index: 1;}#sk-container-id-1 div.sk-parallel {display: flex;align-items: stretch;justify-content: center;background-color: white;position: relative;}#sk-container-id-1 div.sk-item::before, #sk-container-id-1 div.sk-parallel-item::before {content: \"\";position: absolute;border-left: 1px solid gray;box-sizing: border-box;top: 0;bottom: 0;left: 50%;z-index: -1;}#sk-container-id-1 div.sk-parallel-item {display: flex;flex-direction: column;z-index: 1;position: relative;background-color: white;}#sk-container-id-1 div.sk-parallel-item:first-child::after {align-self: flex-end;width: 50%;}#sk-container-id-1 div.sk-parallel-item:last-child::after {align-self: flex-start;width: 50%;}#sk-container-id-1 div.sk-parallel-item:only-child::after {width: 0;}#sk-container-id-1 div.sk-dashed-wrapped {border: 1px dashed gray;margin: 0 0.4em 0.5em 0.4em;box-sizing: border-box;padding-bottom: 0.4em;background-color: white;}#sk-container-id-1 div.sk-label label {font-family: monospace;font-weight: bold;display: inline-block;line-height: 1.2em;}#sk-container-id-1 div.sk-label-container {text-align: center;}#sk-container-id-1 div.sk-container {/* jupyter's `normalize.less` sets `[hidden] { display: none; }` but bootstrap.min.css set `[hidden] { display: none !important; }` so we also need the `!important` here to be able to override the default hidden behavior on the sphinx rendered scikit-learn.org. See: https://github.com/scikit-learn/scikit-learn/issues/21755 */display: inline-block !important;position: relative;}#sk-container-id-1 div.sk-text-repr-fallback {display: none;}</style><div id=\"sk-container-id-1\" class=\"sk-top-container\"><div class=\"sk-text-repr-fallback\"><pre>KNeighborsClassifier(n_neighbors=1)</pre><b>In a Jupyter environment, please rerun this cell to show the HTML representation or trust the notebook. <br />On GitHub, the HTML representation is unable to render, please try loading this page with nbviewer.org.</b></div><div class=\"sk-container\" hidden><div class=\"sk-item\"><div class=\"sk-estimator sk-toggleable\"><input class=\"sk-toggleable__control sk-hidden--visually\" id=\"sk-estimator-id-1\" type=\"checkbox\" checked><label for=\"sk-estimator-id-1\" class=\"sk-toggleable__label sk-toggleable__label-arrow\">KNeighborsClassifier</label><div class=\"sk-toggleable__content\"><pre>KNeighborsClassifier(n_neighbors=1)</pre></div></div></div></div></div>"
      ],
      "text/plain": [
       "KNeighborsClassifier(n_neighbors=1)"
      ]
     },
     "execution_count": 4,
     "metadata": {},
     "output_type": "execute_result"
    }
   ],
   "source": [
    "# Initialize and train the KNN model\n",
    "Model = knn(n_neighbors=1)\n",
    "Model.fit(X, Y)\n"
   ]
  },
  {
   "cell_type": "markdown",
   "id": "483c1ac3",
   "metadata": {
    "papermill": {
     "duration": 0.003825,
     "end_time": "2024-08-12T16:04:35.876101",
     "exception": false,
     "start_time": "2024-08-12T16:04:35.872276",
     "status": "completed"
    },
    "tags": []
   },
   "source": [
    "### Evaluate the Model\n",
    "\n",
    "We evaluate the model's performance on the training data to check the accuracy.\n"
   ]
  },
  {
   "cell_type": "code",
   "execution_count": 5,
   "id": "78445b5d",
   "metadata": {
    "execution": {
     "iopub.execute_input": "2024-08-12T16:04:35.886876Z",
     "iopub.status.busy": "2024-08-12T16:04:35.885752Z",
     "iopub.status.idle": "2024-08-12T16:04:35.909467Z",
     "shell.execute_reply": "2024-08-12T16:04:35.908191Z"
    },
    "papermill": {
     "duration": 0.03143,
     "end_time": "2024-08-12T16:04:35.911954",
     "exception": false,
     "start_time": "2024-08-12T16:04:35.880524",
     "status": "completed"
    },
    "tags": []
   },
   "outputs": [
    {
     "name": "stdout",
     "output_type": "stream",
     "text": [
      "Training Accuracy: 1.00\n",
      "              precision    recall  f1-score   support\n",
      "\n",
      "           1       1.00      1.00      1.00        15\n",
      "           2       1.00      1.00      1.00        13\n",
      "           3       1.00      1.00      1.00        12\n",
      "\n",
      "    accuracy                           1.00        40\n",
      "   macro avg       1.00      1.00      1.00        40\n",
      "weighted avg       1.00      1.00      1.00        40\n",
      "\n"
     ]
    }
   ],
   "source": [
    "# Predict on the training data\n",
    "y_Predicted = Model.predict(X)\n",
    "\n",
    "# Calculate accuracy\n",
    "accuracy = accuracy_score(Y, y_Predicted)\n",
    "print(f'Training Accuracy: {accuracy:.2f}')\n",
    "\n",
    "# Display classification report\n",
    "print(classification_report(Y, y_Predicted))\n"
   ]
  },
  {
   "cell_type": "markdown",
   "id": "c14d2f8f",
   "metadata": {
    "papermill": {
     "duration": 0.003757,
     "end_time": "2024-08-12T16:04:35.919895",
     "exception": false,
     "start_time": "2024-08-12T16:04:35.916138",
     "status": "completed"
    },
    "tags": []
   },
   "source": [
    "### Test the Model with the Test Dataset\n",
    "\n",
    "Now, we'll load the test dataset, apply the same transformations, and predict the labels.\n"
   ]
  },
  {
   "cell_type": "code",
   "execution_count": 6,
   "id": "4fe91190",
   "metadata": {
    "execution": {
     "iopub.execute_input": "2024-08-12T16:04:35.929493Z",
     "iopub.status.busy": "2024-08-12T16:04:35.929114Z",
     "iopub.status.idle": "2024-08-12T16:04:35.944728Z",
     "shell.execute_reply": "2024-08-12T16:04:35.943595Z"
    },
    "papermill": {
     "duration": 0.023596,
     "end_time": "2024-08-12T16:04:35.947462",
     "exception": false,
     "start_time": "2024-08-12T16:04:35.923866",
     "status": "completed"
    },
    "tags": []
   },
   "outputs": [],
   "source": [
    "# Load the test dataset\n",
    "test = pd.read_csv('/kaggle/input/classify-fruits-fall-2024-25-b-1/fruits_test.csv')\n",
    "\n",
    "# Preprocess the test data\n",
    "xtest = test.drop(columns=['Id'])\n",
    "xtest = scaler.transform(xtest)\n",
    "\n",
    "# Predict on the test data\n",
    "ytest = Model.predict(xtest)\n"
   ]
  },
  {
   "cell_type": "markdown",
   "id": "1896f85a",
   "metadata": {
    "papermill": {
     "duration": 0.003818,
     "end_time": "2024-08-12T16:04:35.955415",
     "exception": false,
     "start_time": "2024-08-12T16:04:35.951597",
     "status": "completed"
    },
    "tags": []
   },
   "source": [
    "### Save the Predictions\n",
    "\n",
    "Finally, we'll save the predictions in the required format.\n"
   ]
  },
  {
   "cell_type": "code",
   "execution_count": 7,
   "id": "28729cb4",
   "metadata": {
    "execution": {
     "iopub.execute_input": "2024-08-12T16:04:35.965308Z",
     "iopub.status.busy": "2024-08-12T16:04:35.964627Z",
     "iopub.status.idle": "2024-08-12T16:04:35.973161Z",
     "shell.execute_reply": "2024-08-12T16:04:35.972244Z"
    },
    "papermill": {
     "duration": 0.015983,
     "end_time": "2024-08-12T16:04:35.975432",
     "exception": false,
     "start_time": "2024-08-12T16:04:35.959449",
     "status": "completed"
    },
    "tags": []
   },
   "outputs": [],
   "source": [
    "# Create output DataFrame and save to CSV\n",
    "output = pd.DataFrame({'ID': test.Id, 'Category': ytest})\n",
    "output.to_csv('submission.csv', index=False)\n"
   ]
  }
 ],
 "metadata": {
  "kaggle": {
   "accelerator": "none",
   "dataSources": [
    {
     "databundleVersionId": 9308297,
     "sourceId": 83691,
     "sourceType": "competition"
    }
   ],
   "dockerImageVersionId": 30746,
   "isGpuEnabled": false,
   "isInternetEnabled": true,
   "language": "python",
   "sourceType": "notebook"
  },
  "kernelspec": {
   "display_name": "Python 3",
   "language": "python",
   "name": "python3"
  },
  "language_info": {
   "codemirror_mode": {
    "name": "ipython",
    "version": 3
   },
   "file_extension": ".py",
   "mimetype": "text/x-python",
   "name": "python",
   "nbconvert_exporter": "python",
   "pygments_lexer": "ipython3",
   "version": "3.10.13"
  },
  "papermill": {
   "default_parameters": {},
   "duration": 6.058414,
   "end_time": "2024-08-12T16:04:36.600347",
   "environment_variables": {},
   "exception": null,
   "input_path": "__notebook__.ipynb",
   "output_path": "__notebook__.ipynb",
   "parameters": {},
   "start_time": "2024-08-12T16:04:30.541933",
   "version": "2.5.0"
  }
 },
 "nbformat": 4,
 "nbformat_minor": 5
}
