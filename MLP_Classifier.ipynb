{
 "cells": [
  {
   "cell_type": "code",
   "execution_count": 1,
   "id": "de6066e4",
   "metadata": {
    "execution": {
     "iopub.execute_input": "2024-09-27T10:05:35.372972Z",
     "iopub.status.busy": "2024-09-27T10:05:35.372536Z",
     "iopub.status.idle": "2024-09-27T10:05:38.050256Z",
     "shell.execute_reply": "2024-09-27T10:05:38.049037Z"
    },
    "papermill": {
     "duration": 2.687919,
     "end_time": "2024-09-27T10:05:38.053012",
     "exception": false,
     "start_time": "2024-09-27T10:05:35.365093",
     "status": "completed"
    },
    "tags": []
   },
   "outputs": [],
   "source": [
    "import pandas as pd\n",
    "from sklearn.model_selection import train_test_split\n",
    "from sklearn.neural_network import MLPClassifier\n",
    "from sklearn.preprocessing import StandardScaler\n",
    "from sklearn.metrics import accuracy_score, classification_report"
   ]
  },
  {
   "cell_type": "code",
   "execution_count": 2,
   "id": "84cb9e72",
   "metadata": {
    "execution": {
     "iopub.execute_input": "2024-09-27T10:05:38.065245Z",
     "iopub.status.busy": "2024-09-27T10:05:38.064661Z",
     "iopub.status.idle": "2024-09-27T10:05:38.145990Z",
     "shell.execute_reply": "2024-09-27T10:05:38.144629Z"
    },
    "papermill": {
     "duration": 0.090646,
     "end_time": "2024-09-27T10:05:38.148873",
     "exception": false,
     "start_time": "2024-09-27T10:05:38.058227",
     "status": "completed"
    },
    "tags": []
   },
   "outputs": [
    {
     "data": {
      "text/html": [
       "<div>\n",
       "<style scoped>\n",
       "    .dataframe tbody tr th:only-of-type {\n",
       "        vertical-align: middle;\n",
       "    }\n",
       "\n",
       "    .dataframe tbody tr th {\n",
       "        vertical-align: top;\n",
       "    }\n",
       "\n",
       "    .dataframe thead th {\n",
       "        text-align: right;\n",
       "    }\n",
       "</style>\n",
       "<table border=\"1\" class=\"dataframe\">\n",
       "  <thead>\n",
       "    <tr style=\"text-align: right;\">\n",
       "      <th></th>\n",
       "      <th>1</th>\n",
       "      <th>0</th>\n",
       "      <th>0.1</th>\n",
       "      <th>3</th>\n",
       "      <th>11</th>\n",
       "      <th>16</th>\n",
       "      <th>15</th>\n",
       "      <th>0.2</th>\n",
       "      <th>0.3</th>\n",
       "      <th>0.4</th>\n",
       "      <th>...</th>\n",
       "      <th>0.24</th>\n",
       "      <th>0.25</th>\n",
       "      <th>0.26</th>\n",
       "      <th>3.1</th>\n",
       "      <th>15.3</th>\n",
       "      <th>16.5</th>\n",
       "      <th>9.2</th>\n",
       "      <th>0.27</th>\n",
       "      <th>0.28</th>\n",
       "      <th>8.1</th>\n",
       "    </tr>\n",
       "  </thead>\n",
       "  <tbody>\n",
       "    <tr>\n",
       "      <th>0</th>\n",
       "      <td>2</td>\n",
       "      <td>0</td>\n",
       "      <td>0</td>\n",
       "      <td>0</td>\n",
       "      <td>10</td>\n",
       "      <td>12</td>\n",
       "      <td>3</td>\n",
       "      <td>0</td>\n",
       "      <td>0</td>\n",
       "      <td>0</td>\n",
       "      <td>...</td>\n",
       "      <td>0</td>\n",
       "      <td>0</td>\n",
       "      <td>0</td>\n",
       "      <td>2</td>\n",
       "      <td>10</td>\n",
       "      <td>14</td>\n",
       "      <td>13</td>\n",
       "      <td>4</td>\n",
       "      <td>0</td>\n",
       "      <td>8</td>\n",
       "    </tr>\n",
       "    <tr>\n",
       "      <th>1</th>\n",
       "      <td>3</td>\n",
       "      <td>0</td>\n",
       "      <td>0</td>\n",
       "      <td>3</td>\n",
       "      <td>10</td>\n",
       "      <td>15</td>\n",
       "      <td>8</td>\n",
       "      <td>0</td>\n",
       "      <td>0</td>\n",
       "      <td>0</td>\n",
       "      <td>...</td>\n",
       "      <td>0</td>\n",
       "      <td>0</td>\n",
       "      <td>0</td>\n",
       "      <td>2</td>\n",
       "      <td>10</td>\n",
       "      <td>8</td>\n",
       "      <td>0</td>\n",
       "      <td>0</td>\n",
       "      <td>0</td>\n",
       "      <td>5</td>\n",
       "    </tr>\n",
       "    <tr>\n",
       "      <th>2</th>\n",
       "      <td>4</td>\n",
       "      <td>0</td>\n",
       "      <td>0</td>\n",
       "      <td>5</td>\n",
       "      <td>11</td>\n",
       "      <td>16</td>\n",
       "      <td>16</td>\n",
       "      <td>8</td>\n",
       "      <td>0</td>\n",
       "      <td>0</td>\n",
       "      <td>...</td>\n",
       "      <td>0</td>\n",
       "      <td>0</td>\n",
       "      <td>0</td>\n",
       "      <td>7</td>\n",
       "      <td>16</td>\n",
       "      <td>11</td>\n",
       "      <td>2</td>\n",
       "      <td>0</td>\n",
       "      <td>0</td>\n",
       "      <td>3</td>\n",
       "    </tr>\n",
       "    <tr>\n",
       "      <th>3</th>\n",
       "      <td>5</td>\n",
       "      <td>0</td>\n",
       "      <td>0</td>\n",
       "      <td>4</td>\n",
       "      <td>12</td>\n",
       "      <td>16</td>\n",
       "      <td>16</td>\n",
       "      <td>4</td>\n",
       "      <td>0</td>\n",
       "      <td>0</td>\n",
       "      <td>...</td>\n",
       "      <td>0</td>\n",
       "      <td>0</td>\n",
       "      <td>0</td>\n",
       "      <td>3</td>\n",
       "      <td>12</td>\n",
       "      <td>13</td>\n",
       "      <td>9</td>\n",
       "      <td>0</td>\n",
       "      <td>0</td>\n",
       "      <td>2</td>\n",
       "    </tr>\n",
       "    <tr>\n",
       "      <th>4</th>\n",
       "      <td>6</td>\n",
       "      <td>0</td>\n",
       "      <td>1</td>\n",
       "      <td>11</td>\n",
       "      <td>13</td>\n",
       "      <td>2</td>\n",
       "      <td>0</td>\n",
       "      <td>0</td>\n",
       "      <td>0</td>\n",
       "      <td>0</td>\n",
       "      <td>...</td>\n",
       "      <td>0</td>\n",
       "      <td>0</td>\n",
       "      <td>1</td>\n",
       "      <td>12</td>\n",
       "      <td>12</td>\n",
       "      <td>12</td>\n",
       "      <td>15</td>\n",
       "      <td>11</td>\n",
       "      <td>0</td>\n",
       "      <td>2</td>\n",
       "    </tr>\n",
       "    <tr>\n",
       "      <th>...</th>\n",
       "      <td>...</td>\n",
       "      <td>...</td>\n",
       "      <td>...</td>\n",
       "      <td>...</td>\n",
       "      <td>...</td>\n",
       "      <td>...</td>\n",
       "      <td>...</td>\n",
       "      <td>...</td>\n",
       "      <td>...</td>\n",
       "      <td>...</td>\n",
       "      <td>...</td>\n",
       "      <td>...</td>\n",
       "      <td>...</td>\n",
       "      <td>...</td>\n",
       "      <td>...</td>\n",
       "      <td>...</td>\n",
       "      <td>...</td>\n",
       "      <td>...</td>\n",
       "      <td>...</td>\n",
       "      <td>...</td>\n",
       "      <td>...</td>\n",
       "    </tr>\n",
       "    <tr>\n",
       "      <th>1424</th>\n",
       "      <td>1426</td>\n",
       "      <td>0</td>\n",
       "      <td>0</td>\n",
       "      <td>0</td>\n",
       "      <td>1</td>\n",
       "      <td>7</td>\n",
       "      <td>14</td>\n",
       "      <td>14</td>\n",
       "      <td>0</td>\n",
       "      <td>0</td>\n",
       "      <td>...</td>\n",
       "      <td>0</td>\n",
       "      <td>0</td>\n",
       "      <td>0</td>\n",
       "      <td>0</td>\n",
       "      <td>0</td>\n",
       "      <td>7</td>\n",
       "      <td>12</td>\n",
       "      <td>0</td>\n",
       "      <td>0</td>\n",
       "      <td>9</td>\n",
       "    </tr>\n",
       "    <tr>\n",
       "      <th>1425</th>\n",
       "      <td>1427</td>\n",
       "      <td>0</td>\n",
       "      <td>0</td>\n",
       "      <td>6</td>\n",
       "      <td>14</td>\n",
       "      <td>10</td>\n",
       "      <td>0</td>\n",
       "      <td>0</td>\n",
       "      <td>0</td>\n",
       "      <td>0</td>\n",
       "      <td>...</td>\n",
       "      <td>0</td>\n",
       "      <td>0</td>\n",
       "      <td>0</td>\n",
       "      <td>9</td>\n",
       "      <td>15</td>\n",
       "      <td>8</td>\n",
       "      <td>0</td>\n",
       "      <td>0</td>\n",
       "      <td>0</td>\n",
       "      <td>3</td>\n",
       "    </tr>\n",
       "    <tr>\n",
       "      <th>1426</th>\n",
       "      <td>1428</td>\n",
       "      <td>0</td>\n",
       "      <td>0</td>\n",
       "      <td>8</td>\n",
       "      <td>16</td>\n",
       "      <td>15</td>\n",
       "      <td>6</td>\n",
       "      <td>0</td>\n",
       "      <td>0</td>\n",
       "      <td>0</td>\n",
       "      <td>...</td>\n",
       "      <td>0</td>\n",
       "      <td>0</td>\n",
       "      <td>0</td>\n",
       "      <td>8</td>\n",
       "      <td>15</td>\n",
       "      <td>16</td>\n",
       "      <td>14</td>\n",
       "      <td>1</td>\n",
       "      <td>0</td>\n",
       "      <td>8</td>\n",
       "    </tr>\n",
       "    <tr>\n",
       "      <th>1427</th>\n",
       "      <td>1429</td>\n",
       "      <td>0</td>\n",
       "      <td>0</td>\n",
       "      <td>2</td>\n",
       "      <td>16</td>\n",
       "      <td>13</td>\n",
       "      <td>1</td>\n",
       "      <td>0</td>\n",
       "      <td>0</td>\n",
       "      <td>0</td>\n",
       "      <td>...</td>\n",
       "      <td>0</td>\n",
       "      <td>0</td>\n",
       "      <td>0</td>\n",
       "      <td>4</td>\n",
       "      <td>11</td>\n",
       "      <td>15</td>\n",
       "      <td>16</td>\n",
       "      <td>10</td>\n",
       "      <td>0</td>\n",
       "      <td>2</td>\n",
       "    </tr>\n",
       "    <tr>\n",
       "      <th>1428</th>\n",
       "      <td>1430</td>\n",
       "      <td>0</td>\n",
       "      <td>0</td>\n",
       "      <td>7</td>\n",
       "      <td>12</td>\n",
       "      <td>15</td>\n",
       "      <td>6</td>\n",
       "      <td>0</td>\n",
       "      <td>0</td>\n",
       "      <td>0</td>\n",
       "      <td>...</td>\n",
       "      <td>0</td>\n",
       "      <td>0</td>\n",
       "      <td>0</td>\n",
       "      <td>7</td>\n",
       "      <td>16</td>\n",
       "      <td>7</td>\n",
       "      <td>0</td>\n",
       "      <td>0</td>\n",
       "      <td>0</td>\n",
       "      <td>5</td>\n",
       "    </tr>\n",
       "  </tbody>\n",
       "</table>\n",
       "<p>1429 rows × 66 columns</p>\n",
       "</div>"
      ],
      "text/plain": [
       "         1  0  0.1   3  11  16  15  0.2  0.3  0.4  ...  0.24  0.25  0.26  3.1  \\\n",
       "0        2  0    0   0  10  12   3    0    0    0  ...     0     0     0    2   \n",
       "1        3  0    0   3  10  15   8    0    0    0  ...     0     0     0    2   \n",
       "2        4  0    0   5  11  16  16    8    0    0  ...     0     0     0    7   \n",
       "3        5  0    0   4  12  16  16    4    0    0  ...     0     0     0    3   \n",
       "4        6  0    1  11  13   2   0    0    0    0  ...     0     0     1   12   \n",
       "...    ... ..  ...  ..  ..  ..  ..  ...  ...  ...  ...   ...   ...   ...  ...   \n",
       "1424  1426  0    0   0   1   7  14   14    0    0  ...     0     0     0    0   \n",
       "1425  1427  0    0   6  14  10   0    0    0    0  ...     0     0     0    9   \n",
       "1426  1428  0    0   8  16  15   6    0    0    0  ...     0     0     0    8   \n",
       "1427  1429  0    0   2  16  13   1    0    0    0  ...     0     0     0    4   \n",
       "1428  1430  0    0   7  12  15   6    0    0    0  ...     0     0     0    7   \n",
       "\n",
       "      15.3  16.5  9.2  0.27  0.28  8.1  \n",
       "0       10    14   13     4     0    8  \n",
       "1       10     8    0     0     0    5  \n",
       "2       16    11    2     0     0    3  \n",
       "3       12    13    9     0     0    2  \n",
       "4       12    12   15    11     0    2  \n",
       "...    ...   ...  ...   ...   ...  ...  \n",
       "1424     0     7   12     0     0    9  \n",
       "1425    15     8    0     0     0    3  \n",
       "1426    15    16   14     1     0    8  \n",
       "1427    11    15   16    10     0    2  \n",
       "1428    16     7    0     0     0    5  \n",
       "\n",
       "[1429 rows x 66 columns]"
      ]
     },
     "execution_count": 2,
     "metadata": {},
     "output_type": "execute_result"
    }
   ],
   "source": [
    "# Load training and testing data and ignoring the header in the test data set\n",
    "train_data = pd.read_csv('/kaggle/input/handwritten-digit-identification-fall-24-25-b-1/train.csv')\n",
    "test_data = pd.read_csv('/kaggle/input/handwritten-digit-identification-fall-24-25-b-1/test.csv',header = None)\n",
    "\n",
    "test_data\n",
    "train_data"
   ]
  },
  {
   "cell_type": "code",
   "execution_count": 3,
   "id": "0d74a000",
   "metadata": {
    "execution": {
     "iopub.execute_input": "2024-09-27T10:05:38.162373Z",
     "iopub.status.busy": "2024-09-27T10:05:38.161888Z",
     "iopub.status.idle": "2024-09-27T10:05:38.169495Z",
     "shell.execute_reply": "2024-09-27T10:05:38.168012Z"
    },
    "papermill": {
     "duration": 0.01744,
     "end_time": "2024-09-27T10:05:38.172150",
     "exception": false,
     "start_time": "2024-09-27T10:05:38.154710",
     "status": "completed"
    },
    "tags": []
   },
   "outputs": [],
   "source": [
    "# Extract features and labels from the training data\n",
    "X = train_data.iloc[:, 1:-1].values \n",
    "y = train_data.iloc[:, -1].values\n",
    "\n",
    "# Normalize the pixel values (0 to 255 -> 0 to 1)\n",
    "X = X / 255.0"
   ]
  },
  {
   "cell_type": "code",
   "execution_count": 4,
   "id": "65db89c2",
   "metadata": {
    "execution": {
     "iopub.execute_input": "2024-09-27T10:05:38.185173Z",
     "iopub.status.busy": "2024-09-27T10:05:38.184762Z",
     "iopub.status.idle": "2024-09-27T10:05:38.193446Z",
     "shell.execute_reply": "2024-09-27T10:05:38.192365Z"
    },
    "papermill": {
     "duration": 0.018261,
     "end_time": "2024-09-27T10:05:38.196030",
     "exception": false,
     "start_time": "2024-09-27T10:05:38.177769",
     "status": "completed"
    },
    "tags": []
   },
   "outputs": [],
   "source": [
    "# Split the training data for validation\n",
    "X_train, X_val, y_train, y_val = train_test_split(X, y, test_size=0.2, random_state=42)"
   ]
  },
  {
   "cell_type": "code",
   "execution_count": 5,
   "id": "d57ce200",
   "metadata": {
    "execution": {
     "iopub.execute_input": "2024-09-27T10:05:38.209458Z",
     "iopub.status.busy": "2024-09-27T10:05:38.208981Z",
     "iopub.status.idle": "2024-09-27T10:05:38.214992Z",
     "shell.execute_reply": "2024-09-27T10:05:38.213767Z"
    },
    "papermill": {
     "duration": 0.016259,
     "end_time": "2024-09-27T10:05:38.218002",
     "exception": false,
     "start_time": "2024-09-27T10:05:38.201743",
     "status": "completed"
    },
    "tags": []
   },
   "outputs": [],
   "source": [
    "mlp = MLPClassifier(hidden_layer_sizes=(64, 32), activation='logistic', max_iter=25000, random_state=42)"
   ]
  },
  {
   "cell_type": "code",
   "execution_count": 6,
   "id": "177d5051",
   "metadata": {
    "execution": {
     "iopub.execute_input": "2024-09-27T10:05:38.232485Z",
     "iopub.status.busy": "2024-09-27T10:05:38.231244Z",
     "iopub.status.idle": "2024-09-27T10:06:06.501874Z",
     "shell.execute_reply": "2024-09-27T10:06:06.500260Z"
    },
    "papermill": {
     "duration": 28.282069,
     "end_time": "2024-09-27T10:06:06.506025",
     "exception": false,
     "start_time": "2024-09-27T10:05:38.223956",
     "status": "completed"
    },
    "tags": []
   },
   "outputs": [
    {
     "data": {
      "text/html": [
       "<style>#sk-container-id-1 {color: black;background-color: white;}#sk-container-id-1 pre{padding: 0;}#sk-container-id-1 div.sk-toggleable {background-color: white;}#sk-container-id-1 label.sk-toggleable__label {cursor: pointer;display: block;width: 100%;margin-bottom: 0;padding: 0.3em;box-sizing: border-box;text-align: center;}#sk-container-id-1 label.sk-toggleable__label-arrow:before {content: \"▸\";float: left;margin-right: 0.25em;color: #696969;}#sk-container-id-1 label.sk-toggleable__label-arrow:hover:before {color: black;}#sk-container-id-1 div.sk-estimator:hover label.sk-toggleable__label-arrow:before {color: black;}#sk-container-id-1 div.sk-toggleable__content {max-height: 0;max-width: 0;overflow: hidden;text-align: left;background-color: #f0f8ff;}#sk-container-id-1 div.sk-toggleable__content pre {margin: 0.2em;color: black;border-radius: 0.25em;background-color: #f0f8ff;}#sk-container-id-1 input.sk-toggleable__control:checked~div.sk-toggleable__content {max-height: 200px;max-width: 100%;overflow: auto;}#sk-container-id-1 input.sk-toggleable__control:checked~label.sk-toggleable__label-arrow:before {content: \"▾\";}#sk-container-id-1 div.sk-estimator input.sk-toggleable__control:checked~label.sk-toggleable__label {background-color: #d4ebff;}#sk-container-id-1 div.sk-label input.sk-toggleable__control:checked~label.sk-toggleable__label {background-color: #d4ebff;}#sk-container-id-1 input.sk-hidden--visually {border: 0;clip: rect(1px 1px 1px 1px);clip: rect(1px, 1px, 1px, 1px);height: 1px;margin: -1px;overflow: hidden;padding: 0;position: absolute;width: 1px;}#sk-container-id-1 div.sk-estimator {font-family: monospace;background-color: #f0f8ff;border: 1px dotted black;border-radius: 0.25em;box-sizing: border-box;margin-bottom: 0.5em;}#sk-container-id-1 div.sk-estimator:hover {background-color: #d4ebff;}#sk-container-id-1 div.sk-parallel-item::after {content: \"\";width: 100%;border-bottom: 1px solid gray;flex-grow: 1;}#sk-container-id-1 div.sk-label:hover label.sk-toggleable__label {background-color: #d4ebff;}#sk-container-id-1 div.sk-serial::before {content: \"\";position: absolute;border-left: 1px solid gray;box-sizing: border-box;top: 0;bottom: 0;left: 50%;z-index: 0;}#sk-container-id-1 div.sk-serial {display: flex;flex-direction: column;align-items: center;background-color: white;padding-right: 0.2em;padding-left: 0.2em;position: relative;}#sk-container-id-1 div.sk-item {position: relative;z-index: 1;}#sk-container-id-1 div.sk-parallel {display: flex;align-items: stretch;justify-content: center;background-color: white;position: relative;}#sk-container-id-1 div.sk-item::before, #sk-container-id-1 div.sk-parallel-item::before {content: \"\";position: absolute;border-left: 1px solid gray;box-sizing: border-box;top: 0;bottom: 0;left: 50%;z-index: -1;}#sk-container-id-1 div.sk-parallel-item {display: flex;flex-direction: column;z-index: 1;position: relative;background-color: white;}#sk-container-id-1 div.sk-parallel-item:first-child::after {align-self: flex-end;width: 50%;}#sk-container-id-1 div.sk-parallel-item:last-child::after {align-self: flex-start;width: 50%;}#sk-container-id-1 div.sk-parallel-item:only-child::after {width: 0;}#sk-container-id-1 div.sk-dashed-wrapped {border: 1px dashed gray;margin: 0 0.4em 0.5em 0.4em;box-sizing: border-box;padding-bottom: 0.4em;background-color: white;}#sk-container-id-1 div.sk-label label {font-family: monospace;font-weight: bold;display: inline-block;line-height: 1.2em;}#sk-container-id-1 div.sk-label-container {text-align: center;}#sk-container-id-1 div.sk-container {/* jupyter's `normalize.less` sets `[hidden] { display: none; }` but bootstrap.min.css set `[hidden] { display: none !important; }` so we also need the `!important` here to be able to override the default hidden behavior on the sphinx rendered scikit-learn.org. See: https://github.com/scikit-learn/scikit-learn/issues/21755 */display: inline-block !important;position: relative;}#sk-container-id-1 div.sk-text-repr-fallback {display: none;}</style><div id=\"sk-container-id-1\" class=\"sk-top-container\"><div class=\"sk-text-repr-fallback\"><pre>MLPClassifier(activation=&#x27;logistic&#x27;, hidden_layer_sizes=(64, 32),\n",
       "              max_iter=25000, random_state=42)</pre><b>In a Jupyter environment, please rerun this cell to show the HTML representation or trust the notebook. <br />On GitHub, the HTML representation is unable to render, please try loading this page with nbviewer.org.</b></div><div class=\"sk-container\" hidden><div class=\"sk-item\"><div class=\"sk-estimator sk-toggleable\"><input class=\"sk-toggleable__control sk-hidden--visually\" id=\"sk-estimator-id-1\" type=\"checkbox\" checked><label for=\"sk-estimator-id-1\" class=\"sk-toggleable__label sk-toggleable__label-arrow\">MLPClassifier</label><div class=\"sk-toggleable__content\"><pre>MLPClassifier(activation=&#x27;logistic&#x27;, hidden_layer_sizes=(64, 32),\n",
       "              max_iter=25000, random_state=42)</pre></div></div></div></div></div>"
      ],
      "text/plain": [
       "MLPClassifier(activation='logistic', hidden_layer_sizes=(64, 32),\n",
       "              max_iter=25000, random_state=42)"
      ]
     },
     "execution_count": 6,
     "metadata": {},
     "output_type": "execute_result"
    }
   ],
   "source": [
    "# Train the model\n",
    "mlp.fit(X_train, y_train)"
   ]
  },
  {
   "cell_type": "code",
   "execution_count": 7,
   "id": "1e11874a",
   "metadata": {
    "execution": {
     "iopub.execute_input": "2024-09-27T10:06:06.532751Z",
     "iopub.status.busy": "2024-09-27T10:06:06.531987Z",
     "iopub.status.idle": "2024-09-27T10:06:06.547614Z",
     "shell.execute_reply": "2024-09-27T10:06:06.545870Z"
    },
    "papermill": {
     "duration": 0.035292,
     "end_time": "2024-09-27T10:06:06.553430",
     "exception": false,
     "start_time": "2024-09-27T10:06:06.518138",
     "status": "completed"
    },
    "tags": []
   },
   "outputs": [],
   "source": [
    "# Predict on validation set\n",
    "y_val_pred = mlp.predict(X_val)"
   ]
  },
  {
   "cell_type": "code",
   "execution_count": 8,
   "id": "dc676a9f",
   "metadata": {
    "execution": {
     "iopub.execute_input": "2024-09-27T10:06:06.581130Z",
     "iopub.status.busy": "2024-09-27T10:06:06.580409Z",
     "iopub.status.idle": "2024-09-27T10:06:06.617311Z",
     "shell.execute_reply": "2024-09-27T10:06:06.615741Z"
    },
    "papermill": {
     "duration": 0.055603,
     "end_time": "2024-09-27T10:06:06.622058",
     "exception": false,
     "start_time": "2024-09-27T10:06:06.566455",
     "status": "completed"
    },
    "tags": []
   },
   "outputs": [
    {
     "name": "stdout",
     "output_type": "stream",
     "text": [
      "Validation Accuracy: 0.9476\n",
      "              precision    recall  f1-score   support\n",
      "\n",
      "           0       0.97      1.00      0.98        28\n",
      "           1       0.96      0.96      0.96        24\n",
      "           2       0.95      0.95      0.95        20\n",
      "           3       1.00      0.89      0.94        36\n",
      "           4       0.92      1.00      0.96        24\n",
      "           5       0.90      0.96      0.93        27\n",
      "           6       0.96      0.96      0.96        27\n",
      "           7       0.94      0.94      0.94        34\n",
      "           8       0.92      0.92      0.92        37\n",
      "           9       0.96      0.93      0.95        29\n",
      "\n",
      "    accuracy                           0.95       286\n",
      "   macro avg       0.95      0.95      0.95       286\n",
      "weighted avg       0.95      0.95      0.95       286\n",
      "\n"
     ]
    }
   ],
   "source": [
    "# Evaluate the model\n",
    "val_accuracy = accuracy_score(y_val, y_val_pred)\n",
    "print(f'Validation Accuracy: {val_accuracy:.4f}')\n",
    "print(classification_report(y_val, y_val_pred))"
   ]
  },
  {
   "cell_type": "code",
   "execution_count": 9,
   "id": "39971a79",
   "metadata": {
    "execution": {
     "iopub.execute_input": "2024-09-27T10:06:06.649510Z",
     "iopub.status.busy": "2024-09-27T10:06:06.648800Z",
     "iopub.status.idle": "2024-09-27T10:06:41.046757Z",
     "shell.execute_reply": "2024-09-27T10:06:41.045566Z"
    },
    "papermill": {
     "duration": 34.427353,
     "end_time": "2024-09-27T10:06:41.062255",
     "exception": false,
     "start_time": "2024-09-27T10:06:06.634902",
     "status": "completed"
    },
    "tags": []
   },
   "outputs": [
    {
     "name": "stdout",
     "output_type": "stream",
     "text": [
      "Experiment 2 - Validation Accuracy: 0.8986\n",
      "              precision    recall  f1-score   support\n",
      "\n",
      "           0       0.97      1.00      0.98        28\n",
      "           1       0.96      0.96      0.96        24\n",
      "           2       0.95      0.95      0.95        20\n",
      "           3       1.00      0.89      0.94        36\n",
      "           4       0.92      1.00      0.96        24\n",
      "           5       0.90      0.96      0.93        27\n",
      "           6       0.96      0.96      0.96        27\n",
      "           7       0.94      0.94      0.94        34\n",
      "           8       0.92      0.92      0.92        37\n",
      "           9       0.96      0.93      0.95        29\n",
      "\n",
      "    accuracy                           0.95       286\n",
      "   macro avg       0.95      0.95      0.95       286\n",
      "weighted avg       0.95      0.95      0.95       286\n",
      "\n"
     ]
    }
   ],
   "source": [
    "# 3 hidden layers with 128, 64, and 32 neurons, logistic (sigmoid) activation\n",
    "mlp_2 = MLPClassifier(hidden_layer_sizes=(128, 64, 32), activation='logistic', max_iter=2000, random_state=42)\n",
    "mlp_2.fit(X_train, y_train)\n",
    "y_val_pred_2 = mlp_2.predict(X_val)\n",
    "print(f'Experiment 2 - Validation Accuracy: {accuracy_score(y_val, y_val_pred_2):.4f}')\n",
    "print(classification_report(y_val, y_val_pred))"
   ]
  },
  {
   "cell_type": "code",
   "execution_count": 10,
   "id": "6a4bed28",
   "metadata": {
    "execution": {
     "iopub.execute_input": "2024-09-27T10:06:41.090295Z",
     "iopub.status.busy": "2024-09-27T10:06:41.089554Z",
     "iopub.status.idle": "2024-09-27T10:06:41.708506Z",
     "shell.execute_reply": "2024-09-27T10:06:41.707332Z"
    },
    "papermill": {
     "duration": 0.637704,
     "end_time": "2024-09-27T10:06:41.712886",
     "exception": false,
     "start_time": "2024-09-27T10:06:41.075182",
     "status": "completed"
    },
    "tags": []
   },
   "outputs": [
    {
     "name": "stdout",
     "output_type": "stream",
     "text": [
      "Experiment 8 - Validation Accuracy: 0.0944\n",
      "              precision    recall  f1-score   support\n",
      "\n",
      "           0       0.97      1.00      0.98        28\n",
      "           1       0.96      0.96      0.96        24\n",
      "           2       0.95      0.95      0.95        20\n",
      "           3       1.00      0.89      0.94        36\n",
      "           4       0.92      1.00      0.96        24\n",
      "           5       0.90      0.96      0.93        27\n",
      "           6       0.96      0.96      0.96        27\n",
      "           7       0.94      0.94      0.94        34\n",
      "           8       0.92      0.92      0.92        37\n",
      "           9       0.96      0.93      0.95        29\n",
      "\n",
      "    accuracy                           0.95       286\n",
      "   macro avg       0.95      0.95      0.95       286\n",
      "weighted avg       0.95      0.95      0.95       286\n",
      "\n"
     ]
    }
   ],
   "source": [
    "# 3 hidden layers with 32, 16, and 8 neurons, logistic (sigmoid) activation\n",
    "mlp_8 = MLPClassifier(hidden_layer_sizes=(32, 16, 8), activation='logistic', max_iter=500, random_state=42)\n",
    "mlp_8.fit(X_train, y_train)\n",
    "y_val_pred_8 = mlp_8.predict(X_val)\n",
    "print(f'Experiment 8 - Validation Accuracy: {accuracy_score(y_val, y_val_pred_8):.4f}')\n",
    "print(classification_report(y_val, y_val_pred))"
   ]
  },
  {
   "cell_type": "code",
   "execution_count": 11,
   "id": "9404f60d",
   "metadata": {
    "execution": {
     "iopub.execute_input": "2024-09-27T10:06:41.742113Z",
     "iopub.status.busy": "2024-09-27T10:06:41.741279Z",
     "iopub.status.idle": "2024-09-27T10:06:41.756738Z",
     "shell.execute_reply": "2024-09-27T10:06:41.755070Z"
    },
    "papermill": {
     "duration": 0.03409,
     "end_time": "2024-09-27T10:06:41.760987",
     "exception": false,
     "start_time": "2024-09-27T10:06:41.726897",
     "status": "completed"
    },
    "tags": []
   },
   "outputs": [],
   "source": [
    "X_test = test_data.iloc[:, 1:].values / 255.0\n",
    "test_predictions = mlp.predict(X_test)"
   ]
  },
  {
   "cell_type": "code",
   "execution_count": 12,
   "id": "106e003a",
   "metadata": {
    "execution": {
     "iopub.execute_input": "2024-09-27T10:06:41.790022Z",
     "iopub.status.busy": "2024-09-27T10:06:41.789260Z",
     "iopub.status.idle": "2024-09-27T10:06:41.804524Z",
     "shell.execute_reply": "2024-09-27T10:06:41.802871Z"
    },
    "papermill": {
     "duration": 0.035379,
     "end_time": "2024-09-27T10:06:41.808778",
     "exception": false,
     "start_time": "2024-09-27T10:06:41.773399",
     "status": "completed"
    },
    "tags": []
   },
   "outputs": [],
   "source": [
    "submission = pd.DataFrame({'ID': test_data.iloc[:,0], 'Category': test_predictions})\n",
    "submission.to_csv('submission.csv', index=False)"
   ]
  }
 ],
 "metadata": {
  "kaggle": {
   "accelerator": "none",
   "dataSources": [
    {
     "databundleVersionId": 9701296,
     "sourceId": 85768,
     "sourceType": "competition"
    }
   ],
   "dockerImageVersionId": 30775,
   "isGpuEnabled": false,
   "isInternetEnabled": true,
   "language": "python",
   "sourceType": "notebook"
  },
  "kernelspec": {
   "display_name": "Python 3",
   "language": "python",
   "name": "python3"
  },
  "language_info": {
   "codemirror_mode": {
    "name": "ipython",
    "version": 3
   },
   "file_extension": ".py",
   "mimetype": "text/x-python",
   "name": "python",
   "nbconvert_exporter": "python",
   "pygments_lexer": "ipython3",
   "version": "3.10.14"
  },
  "papermill": {
   "default_parameters": {},
   "duration": 70.66173,
   "end_time": "2024-09-27T10:06:42.455109",
   "environment_variables": {},
   "exception": null,
   "input_path": "__notebook__.ipynb",
   "output_path": "__notebook__.ipynb",
   "parameters": {},
   "start_time": "2024-09-27T10:05:31.793379",
   "version": "2.6.0"
  }
 },
 "nbformat": 4,
 "nbformat_minor": 5
}
