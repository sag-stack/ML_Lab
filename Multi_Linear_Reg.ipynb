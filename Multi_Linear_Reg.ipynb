{
 "cells": [
  {
   "cell_type": "code",
   "execution_count": 1,
   "id": "1e67829f",
   "metadata": {
    "_cell_guid": "b1076dfc-b9ad-4769-8c92-a6c4dae69d19",
    "_uuid": "8f2839f25d086af736a60e9eeb907d3b93b6e0e5",
    "execution": {
     "iopub.execute_input": "2024-08-18T06:37:02.620006Z",
     "iopub.status.busy": "2024-08-18T06:37:02.619589Z",
     "iopub.status.idle": "2024-08-18T06:37:05.447301Z",
     "shell.execute_reply": "2024-08-18T06:37:05.445982Z"
    },
    "papermill": {
     "duration": 2.83493,
     "end_time": "2024-08-18T06:37:05.449760",
     "exception": false,
     "start_time": "2024-08-18T06:37:02.614830",
     "status": "completed"
    },
    "tags": []
   },
   "outputs": [],
   "source": [
    "import pandas as pd\n",
    "import numpy as np\n",
    "import matplotlib.pyplot as plt\n",
    "import seaborn as sns\n",
    "from sklearn.linear_model import LinearRegression, Ridge, Lasso, ElasticNet\n",
    "from sklearn.metrics import mean_squared_error, r2_score\n",
    "from sklearn.preprocessing import StandardScaler, PolynomialFeatures\n",
    "from sklearn.feature_selection import RFE\n"
   ]
  },
  {
   "cell_type": "code",
   "execution_count": 2,
   "id": "5808ab74",
   "metadata": {
    "execution": {
     "iopub.execute_input": "2024-08-18T06:37:05.457115Z",
     "iopub.status.busy": "2024-08-18T06:37:05.456578Z",
     "iopub.status.idle": "2024-08-18T06:37:05.568351Z",
     "shell.execute_reply": "2024-08-18T06:37:05.567142Z"
    },
    "papermill": {
     "duration": 0.118873,
     "end_time": "2024-08-18T06:37:05.571508",
     "exception": false,
     "start_time": "2024-08-18T06:37:05.452635",
     "status": "completed"
    },
    "tags": []
   },
   "outputs": [
    {
     "name": "stdout",
     "output_type": "stream",
     "text": [
      "   ID  population  householdsize  agePct12t21  agePct12t29  agePct16t24  \\\n",
      "0   1       14985           2.56        16.55        34.42        22.54   \n",
      "1   2       30843           2.83        15.45        35.12        18.14   \n",
      "2   3       74991           2.52        10.48        20.43         9.11   \n",
      "3   4       45061           2.44        10.59        24.97        11.61   \n",
      "4   5       12863           2.45        12.02        22.51        10.49   \n",
      "\n",
      "   agePct65up  numbUrban  pctUrban  medIncome  ...  MedOwnCostPctInc  \\\n",
      "0       10.13          0       0.0      35545  ...              23.3   \n",
      "1        4.70          0       0.0      32033  ...              21.6   \n",
      "2       20.68      73342      97.8      31177  ...              23.6   \n",
      "3       16.34      45061     100.0      39822  ...              24.0   \n",
      "4       18.46          0       0.0      23044  ...              16.0   \n",
      "\n",
      "   MedOwnCostPctIncNoMtg  NumInShelters  NumStreet  PctForeignBorn  \\\n",
      "0                   13.5              0          0            3.32   \n",
      "1                   10.9             68         41            4.98   \n",
      "2                   11.9              0          0            6.51   \n",
      "3                   16.3              0          1           13.13   \n",
      "4                   11.7              0          0            1.08   \n",
      "\n",
      "   PctBornSameState  PctSameHouse85  PctSameCity85  PctSameState85  \\\n",
      "0             60.94           47.28          66.65           82.41   \n",
      "1             25.24           28.17          52.73           59.20   \n",
      "2             13.69           34.49          60.88           66.97   \n",
      "3             67.79           65.19          84.28           91.32   \n",
      "4             80.22           53.17          86.56           93.15   \n",
      "\n",
      "   ViolentCrimesPerPop  \n",
      "0               428.64  \n",
      "1               742.54  \n",
      "2               303.72  \n",
      "3               373.88  \n",
      "4               108.07  \n",
      "\n",
      "[5 rows x 90 columns]\n",
      "<class 'pandas.core.frame.DataFrame'>\n",
      "RangeIndex: 1595 entries, 0 to 1594\n",
      "Data columns (total 90 columns):\n",
      " #   Column                 Non-Null Count  Dtype  \n",
      "---  ------                 --------------  -----  \n",
      " 0   ID                     1595 non-null   int64  \n",
      " 1   population             1595 non-null   int64  \n",
      " 2   householdsize          1595 non-null   float64\n",
      " 3   agePct12t21            1595 non-null   float64\n",
      " 4   agePct12t29            1595 non-null   float64\n",
      " 5   agePct16t24            1595 non-null   float64\n",
      " 6   agePct65up             1595 non-null   float64\n",
      " 7   numbUrban              1595 non-null   int64  \n",
      " 8   pctUrban               1595 non-null   float64\n",
      " 9   medIncome              1595 non-null   int64  \n",
      " 10  pctWWage               1595 non-null   float64\n",
      " 11  pctWFarmSelf           1595 non-null   float64\n",
      " 12  pctWInvInc             1595 non-null   float64\n",
      " 13  pctWSocSec             1595 non-null   float64\n",
      " 14  pctWPubAsst            1595 non-null   float64\n",
      " 15  pctWRetire             1595 non-null   float64\n",
      " 16  medFamInc              1595 non-null   int64  \n",
      " 17  perCapInc              1595 non-null   int64  \n",
      " 18  NumUnderPov            1595 non-null   int64  \n",
      " 19  PctPopUnderPov         1595 non-null   float64\n",
      " 20  PctLess9thGrade        1595 non-null   float64\n",
      " 21  PctNotHSGrad           1595 non-null   float64\n",
      " 22  PctBSorMore            1595 non-null   float64\n",
      " 23  PctUnemployed          1595 non-null   float64\n",
      " 24  PctEmploy              1595 non-null   float64\n",
      " 25  PctEmplManu            1595 non-null   float64\n",
      " 26  PctEmplProfServ        1595 non-null   float64\n",
      " 27  PctOccupManu           1595 non-null   float64\n",
      " 28  PctOccupMgmtProf       1595 non-null   float64\n",
      " 29  MalePctDivorce         1595 non-null   float64\n",
      " 30  MalePctNevMarr         1595 non-null   float64\n",
      " 31  FemalePctDiv           1595 non-null   float64\n",
      " 32  TotalPctDiv            1595 non-null   float64\n",
      " 33  PersPerFam             1595 non-null   float64\n",
      " 34  PctFam2Par             1595 non-null   float64\n",
      " 35  PctKids2Par            1595 non-null   float64\n",
      " 36  PctYoungKids2Par       1595 non-null   float64\n",
      " 37  PctTeen2Par            1595 non-null   float64\n",
      " 38  PctWorkMomYoungKids    1595 non-null   float64\n",
      " 39  PctWorkMom             1595 non-null   float64\n",
      " 40  NumKidsBornNeverMar    1595 non-null   int64  \n",
      " 41  PctKidsBornNeverMar    1595 non-null   float64\n",
      " 42  NumImmig               1595 non-null   int64  \n",
      " 43  PctImmigRecent         1595 non-null   float64\n",
      " 44  PctImmigRec5           1595 non-null   float64\n",
      " 45  PctImmigRec8           1595 non-null   float64\n",
      " 46  PctImmigRec10          1595 non-null   float64\n",
      " 47  PctRecentImmig         1595 non-null   float64\n",
      " 48  PctRecImmig5           1595 non-null   float64\n",
      " 49  PctRecImmig8           1595 non-null   float64\n",
      " 50  PctRecImmig10          1595 non-null   float64\n",
      " 51  PctSpeakEnglOnly       1595 non-null   float64\n",
      " 52  PctNotSpeakEnglWell    1595 non-null   float64\n",
      " 53  PctLargHouseFam        1595 non-null   float64\n",
      " 54  PctLargHouseOccup      1595 non-null   float64\n",
      " 55  PersPerOccupHous       1595 non-null   float64\n",
      " 56  PersPerOwnOccHous      1595 non-null   float64\n",
      " 57  PersPerRentOccHous     1595 non-null   float64\n",
      " 58  PctPersOwnOccup        1595 non-null   float64\n",
      " 59  PctPersDenseHous       1595 non-null   float64\n",
      " 60  PctHousLess3BR         1595 non-null   float64\n",
      " 61  MedNumBR               1595 non-null   int64  \n",
      " 62  HousVacant             1595 non-null   int64  \n",
      " 63  PctHousOccup           1595 non-null   float64\n",
      " 64  PctHousOwnOcc          1595 non-null   float64\n",
      " 65  PctVacantBoarded       1595 non-null   float64\n",
      " 66  PctVacMore6Mos         1595 non-null   float64\n",
      " 67  MedYrHousBuilt         1595 non-null   int64  \n",
      " 68  PctHousNoPhone         1595 non-null   float64\n",
      " 69  PctWOFullPlumb         1595 non-null   float64\n",
      " 70  OwnOccLowQuart         1595 non-null   int64  \n",
      " 71  OwnOccMedVal           1595 non-null   int64  \n",
      " 72  OwnOccHiQuart          1595 non-null   int64  \n",
      " 73  OwnOccQrange           1595 non-null   int64  \n",
      " 74  RentLowQ               1595 non-null   int64  \n",
      " 75  RentMedian             1595 non-null   int64  \n",
      " 76  RentHighQ              1595 non-null   int64  \n",
      " 77  RentQrange             1595 non-null   int64  \n",
      " 78  MedRent                1595 non-null   int64  \n",
      " 79  MedRentPctHousInc      1595 non-null   float64\n",
      " 80  MedOwnCostPctInc       1595 non-null   float64\n",
      " 81  MedOwnCostPctIncNoMtg  1595 non-null   float64\n",
      " 82  NumInShelters          1595 non-null   int64  \n",
      " 83  NumStreet              1595 non-null   int64  \n",
      " 84  PctForeignBorn         1595 non-null   float64\n",
      " 85  PctBornSameState       1595 non-null   float64\n",
      " 86  PctSameHouse85         1595 non-null   float64\n",
      " 87  PctSameCity85          1595 non-null   float64\n",
      " 88  PctSameState85         1595 non-null   float64\n",
      " 89  ViolentCrimesPerPop    1595 non-null   float64\n",
      "dtypes: float64(67), int64(23)\n",
      "memory usage: 1.1 MB\n",
      "None\n"
     ]
    }
   ],
   "source": [
    "# Load the training data\n",
    "train_df = pd.read_csv('/kaggle/input/crime-prediction-b-1-fall-24-25/crime_train.csv')\n",
    "test_df = pd.read_csv('/kaggle/input/crime-prediction-b-1-fall-24-25/crime_test.csv')\n",
    "\n",
    "# Explore the training data\n",
    "print(train_df.head())\n",
    "print(train_df.info())\n"
   ]
  },
  {
   "cell_type": "code",
   "execution_count": 3,
   "id": "d599d985",
   "metadata": {
    "execution": {
     "iopub.execute_input": "2024-08-18T06:37:05.579228Z",
     "iopub.status.busy": "2024-08-18T06:37:05.578842Z",
     "iopub.status.idle": "2024-08-18T06:37:05.655268Z",
     "shell.execute_reply": "2024-08-18T06:37:05.654264Z"
    },
    "papermill": {
     "duration": 0.083341,
     "end_time": "2024-08-18T06:37:05.657784",
     "exception": false,
     "start_time": "2024-08-18T06:37:05.574443",
     "status": "completed"
    },
    "tags": []
   },
   "outputs": [],
   "source": [
    "# Handle missing values\n",
    "train_df.fillna(train_df.mean(), inplace=True)\n",
    "test_df.fillna(test_df.mean(), inplace=True)\n",
    "\n",
    "# Separate features and target variable in the training dataset\n",
    "X_train = train_df.drop(columns=['ID', 'ViolentCrimesPerPop'])\n",
    "y_train = train_df['ViolentCrimesPerPop']\n",
    "\n",
    "# Standardize the features\n",
    "scaler = StandardScaler()\n",
    "X_train_scaled = scaler.fit_transform(X_train)\n",
    "X_test_scaled = scaler.transform(test_df.drop(columns=['ID']))\n"
   ]
  },
  {
   "cell_type": "code",
   "execution_count": 4,
   "id": "86f75a69",
   "metadata": {
    "execution": {
     "iopub.execute_input": "2024-08-18T06:37:05.665637Z",
     "iopub.status.busy": "2024-08-18T06:37:05.664695Z",
     "iopub.status.idle": "2024-08-18T06:37:06.083089Z",
     "shell.execute_reply": "2024-08-18T06:37:06.081853Z"
    },
    "papermill": {
     "duration": 0.425663,
     "end_time": "2024-08-18T06:37:06.086375",
     "exception": false,
     "start_time": "2024-08-18T06:37:05.660712",
     "status": "completed"
    },
    "tags": []
   },
   "outputs": [
    {
     "name": "stdout",
     "output_type": "stream",
     "text": [
      "Selected features: Index(['population', 'agePct12t29', 'agePct16t24', 'agePct65up', 'numbUrban',\n",
      "       'pctUrban', 'medIncome', 'pctWInvInc', 'pctWSocSec', 'pctWPubAsst',\n",
      "       'pctWRetire', 'medFamInc', 'perCapInc', 'NumUnderPov',\n",
      "       'PctLess9thGrade', 'PctNotHSGrad', 'PctEmploy', 'PctEmplManu',\n",
      "       'PctOccupMgmtProf', 'MalePctDivorce', 'FemalePctDiv', 'TotalPctDiv',\n",
      "       'PersPerFam', 'PctKids2Par', 'PctYoungKids2Par', 'PctWorkMomYoungKids',\n",
      "       'PctWorkMom', 'PctKidsBornNeverMar', 'NumImmig', 'PctRecImmig5',\n",
      "       'PctRecImmig8', 'PctSpeakEnglOnly', 'PctNotSpeakEnglWell',\n",
      "       'PctLargHouseFam', 'PctLargHouseOccup', 'PersPerOccupHous',\n",
      "       'PersPerOwnOccHous', 'PersPerRentOccHous', 'PctPersOwnOccup',\n",
      "       'PctPersDenseHous', 'PctHousLess3BR', 'HousVacant', 'PctHousOwnOcc',\n",
      "       'PctVacantBoarded', 'RentLowQ', 'RentMedian', 'RentHighQ', 'MedRent',\n",
      "       'MedOwnCostPctIncNoMtg', 'PctForeignBorn'],\n",
      "      dtype='object')\n"
     ]
    }
   ],
   "source": [
    "# Initialize the linear regression model\n",
    "linear_model = LinearRegression()\n",
    "\n",
    "# Use RFE for feature selection\n",
    "rfe = RFE(linear_model, n_features_to_select=50) \n",
    "X_train_rfe = rfe.fit_transform(X_train_scaled, y_train)\n",
    "\n",
    "# Get selected feature names\n",
    "selected_features = X_train.columns[rfe.support_]\n",
    "print(\"Selected features:\", selected_features)\n",
    "\n",
    "# Transform the test data using the same feature selection\n",
    "X_test_rfe = rfe.transform(X_test_scaled)\n"
   ]
  },
  {
   "cell_type": "code",
   "execution_count": 5,
   "id": "611f7a67",
   "metadata": {
    "execution": {
     "iopub.execute_input": "2024-08-18T06:37:06.098440Z",
     "iopub.status.busy": "2024-08-18T06:37:06.097847Z",
     "iopub.status.idle": "2024-08-18T06:37:06.127052Z",
     "shell.execute_reply": "2024-08-18T06:37:06.125655Z"
    },
    "papermill": {
     "duration": 0.039152,
     "end_time": "2024-08-18T06:37:06.130564",
     "exception": false,
     "start_time": "2024-08-18T06:37:06.091412",
     "status": "completed"
    },
    "tags": []
   },
   "outputs": [
    {
     "name": "stdout",
     "output_type": "stream",
     "text": [
      "Training Mean Squared Error: 127744.75982671547\n",
      "Training R² Score: 0.659449437659948\n"
     ]
    }
   ],
   "source": [
    "# Train the model on the selected features\n",
    "linear_model.fit(X_train_rfe, y_train)\n",
    "\n",
    "# Predict on the training set\n",
    "y_train_pred = linear_model.predict(X_train_rfe)\n",
    "\n",
    "# Evaluate the model\n",
    "mse_train = mean_squared_error(y_train, y_train_pred)\n",
    "r2_train = r2_score(y_train, y_train_pred)\n",
    "\n",
    "print(f\"Training Mean Squared Error: {mse_train}\")\n",
    "print(f\"Training R² Score: {r2_train}\")\n"
   ]
  },
  {
   "cell_type": "code",
   "execution_count": 6,
   "id": "b6626b6e",
   "metadata": {
    "execution": {
     "iopub.execute_input": "2024-08-18T06:37:06.143346Z",
     "iopub.status.busy": "2024-08-18T06:37:06.142817Z",
     "iopub.status.idle": "2024-08-18T06:37:06.156763Z",
     "shell.execute_reply": "2024-08-18T06:37:06.155601Z"
    },
    "papermill": {
     "duration": 0.024468,
     "end_time": "2024-08-18T06:37:06.160575",
     "exception": false,
     "start_time": "2024-08-18T06:37:06.136107",
     "status": "completed"
    },
    "tags": []
   },
   "outputs": [],
   "source": [
    "# Predict on the test data\n",
    "y_test_pred = linear_model.predict(X_test_rfe)\n",
    "\n",
    "# Save predictions to a CSV file\n",
    "output = pd.DataFrame({'ID': test_df['ID'], 'Prediction': y_test_pred})\n",
    "output.to_csv('submission.csv', index=False)\n"
   ]
  }
 ],
 "metadata": {
  "kaggle": {
   "accelerator": "none",
   "dataSources": [
    {
     "databundleVersionId": 9359649,
     "sourceId": 83966,
     "sourceType": "competition"
    }
   ],
   "dockerImageVersionId": 30746,
   "isGpuEnabled": false,
   "isInternetEnabled": true,
   "language": "python",
   "sourceType": "notebook"
  },
  "kernelspec": {
   "display_name": "Python 3",
   "language": "python",
   "name": "python3"
  },
  "language_info": {
   "codemirror_mode": {
    "name": "ipython",
    "version": 3
   },
   "file_extension": ".py",
   "mimetype": "text/x-python",
   "name": "python",
   "nbconvert_exporter": "python",
   "pygments_lexer": "ipython3",
   "version": "3.10.13"
  },
  "papermill": {
   "default_parameters": {},
   "duration": 7.179492,
   "end_time": "2024-08-18T06:37:06.892927",
   "environment_variables": {},
   "exception": null,
   "input_path": "__notebook__.ipynb",
   "output_path": "__notebook__.ipynb",
   "parameters": {},
   "start_time": "2024-08-18T06:36:59.713435",
   "version": "2.5.0"
  }
 },
 "nbformat": 4,
 "nbformat_minor": 5
}
