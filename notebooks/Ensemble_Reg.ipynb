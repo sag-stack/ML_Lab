{
 "cells": [
  {
   "cell_type": "code",
   "execution_count": null,
   "id": "507cfaad",
   "metadata": {
    "_cell_guid": "b1076dfc-b9ad-4769-8c92-a6c4dae69d19",
    "_uuid": "8f2839f25d086af736a60e9eeb907d3b93b6e0e5",
    "execution": {
     "iopub.execute_input": "2024-11-08T09:56:44.521051Z",
     "iopub.status.busy": "2024-11-08T09:56:44.520505Z",
     "iopub.status.idle": "2024-11-08T09:56:45.653841Z",
     "shell.execute_reply": "2024-11-08T09:56:45.652290Z"
    },
    "papermill": {
     "duration": 1.140833,
     "end_time": "2024-11-08T09:56:45.656663",
     "exception": false,
     "start_time": "2024-11-08T09:56:44.515830",
     "status": "completed"
    },
    "tags": []
   },
   "outputs": [
    {
     "name": "stdout",
     "output_type": "stream",
     "text": [
      "/kaggle/input/diabetes-prediction-b-1-fall-24-25/sample_submission.csv\n",
      "/kaggle/input/diabetes-prediction-b-1-fall-24-25/train.csv\n",
      "/kaggle/input/diabetes-prediction-b-1-fall-24-25/test.csv\n"
     ]
    }
   ],
   "source": [
    "# This Python 3 environment comes with many helpful analytics libraries installed\n",
    "# It is defined by the kaggle/python Docker image: https://github.com/kaggle/docker-python\n",
    "# For example, here's several helpful packages to load\n",
    "\n",
    "import numpy as np # linear algebra\n",
    "import pandas as pd # data processing, CSV file I/O (e.g. pd.read_csv)\n",
    "\n",
    "# Input data files are available in the read-only \"../input/\" directory\n",
    "# For example, running this (by clicking run or pressing Shift+Enter) will list all files under the input directory\n",
    "\n",
    "\n",
    "\n",
    "# You can write up to 20GB to the current directory (/kaggle/working/) that gets preserved as output when you create a version using \"Save & Run All\" \n",
    "# You can also write temporary files to /kaggle/temp/, but they won't be saved outside of the current session"
   ]
  },
  {
   "cell_type": "code",
   "execution_count": null,
   "id": "d9d0cc27",
   "metadata": {
    "execution": {
     "iopub.execute_input": "2024-11-08T09:56:45.664419Z",
     "iopub.status.busy": "2024-11-08T09:56:45.663838Z",
     "iopub.status.idle": "2024-11-08T09:58:17.120579Z",
     "shell.execute_reply": "2024-11-08T09:58:17.118994Z"
    },
    "papermill": {
     "duration": 91.463745,
     "end_time": "2024-11-08T09:58:17.123299",
     "exception": false,
     "start_time": "2024-11-08T09:56:45.659554",
     "status": "completed"
    },
    "tags": []
   },
   "outputs": [
    {
     "name": "stdout",
     "output_type": "stream",
     "text": [
      "Best RandomForest model: {'max_depth': 5, 'n_estimators': 300}\n",
      "Best RandomForest RMSE: 52.15356718063002\n",
      "Best SVR model: {'C': 1, 'epsilon': 0.1, 'kernel': 'linear'}\n",
      "Best SVR RMSE: 51.74632043951137\n",
      "Test RMSE for Voting Regressor: 60.47695305771406\n"
     ]
    },
    {
     "name": "stderr",
     "output_type": "stream",
     "text": [
      "/opt/conda/lib/python3.10/site-packages/sklearn/ensemble/_base.py:166: FutureWarning: `base_estimator` was renamed to `estimator` in version 1.2 and will be removed in 1.4.\n",
      "  warnings.warn(\n"
     ]
    },
    {
     "name": "stdout",
     "output_type": "stream",
     "text": [
      "Test RMSE for Bagging Regressor: 62.364492222517\n",
      "Test RMSE for Stacking Regressor: 61.44561232353492\n",
      "\n",
      "Cross-validation results for the final models:\n",
      "Cross-validated RMSE for Voting Regressor: 50.46663784943119\n"
     ]
    },
    {
     "name": "stderr",
     "output_type": "stream",
     "text": [
      "/opt/conda/lib/python3.10/site-packages/sklearn/ensemble/_base.py:166: FutureWarning: `base_estimator` was renamed to `estimator` in version 1.2 and will be removed in 1.4.\n",
      "  warnings.warn(\n",
      "/opt/conda/lib/python3.10/site-packages/sklearn/ensemble/_base.py:166: FutureWarning: `base_estimator` was renamed to `estimator` in version 1.2 and will be removed in 1.4.\n",
      "  warnings.warn(\n",
      "/opt/conda/lib/python3.10/site-packages/sklearn/ensemble/_base.py:166: FutureWarning: `base_estimator` was renamed to `estimator` in version 1.2 and will be removed in 1.4.\n",
      "  warnings.warn(\n",
      "/opt/conda/lib/python3.10/site-packages/sklearn/ensemble/_base.py:166: FutureWarning: `base_estimator` was renamed to `estimator` in version 1.2 and will be removed in 1.4.\n",
      "  warnings.warn(\n",
      "/opt/conda/lib/python3.10/site-packages/sklearn/ensemble/_base.py:166: FutureWarning: `base_estimator` was renamed to `estimator` in version 1.2 and will be removed in 1.4.\n",
      "  warnings.warn(\n"
     ]
    },
    {
     "name": "stdout",
     "output_type": "stream",
     "text": [
      "Cross-validated RMSE for Bagging Regressor: 52.12356842952043\n",
      "Cross-validated RMSE for Stacking Regressor: 50.79648008661769\n"
     ]
    }
   ],
   "source": [
    "import pandas as pd\n",
    "from sklearn.model_selection import train_test_split, GridSearchCV, cross_val_score\n",
    "from sklearn.ensemble import RandomForestRegressor, VotingRegressor, BaggingRegressor, StackingRegressor\n",
    "from sklearn.svm import SVR\n",
    "from sklearn.linear_model import LinearRegression\n",
    "from sklearn.metrics import mean_squared_error\n",
    "from sklearn.preprocessing import StandardScaler\n",
    "import numpy as np\n",
    "\n",
    "# Load the training dataset\n",
    "data = pd.read_csv('Ensemble_Reg_train.csv')\n",
    "\n",
    "# Drop irrelevant columns and split features and target\n",
    "X = data.drop(columns=['ID', 'y'])  # Remove 'ID' and target 'y'\n",
    "y = data['y']\n",
    "\n",
    "# Standardize the features\n",
    "scaler = StandardScaler()\n",
    "X = scaler.fit_transform(X)\n",
    "\n",
    "# Split data for initial train-test validation\n",
    "X_train, X_test, y_train, y_test = train_test_split(X, y, test_size=0.2, random_state=34)\n",
    "\n",
    "# Define models\n",
    "models = {\n",
    "    \"RandomForest\": RandomForestRegressor(random_state=34),\n",
    "    \"SVR\": SVR()\n",
    "}\n",
    "\n",
    "# Define hyperparameters for grid search\n",
    "param_grid = {\n",
    "    \"RandomForest\": {\n",
    "        \"n_estimators\": [100, 200, 300],\n",
    "        \"max_depth\": [5, 10, 15, 100]\n",
    "    },\n",
    "    \"SVR\": {\n",
    "        \"C\": [0.1, 1, 10],\n",
    "        \"epsilon\": [0.01, 0.1, 0.2],\n",
    "        \"kernel\": ['linear', 'rbf']\n",
    "    }\n",
    "}\n",
    "\n",
    "# Perform grid search with cross-validation\n",
    "best_estimators = {}\n",
    "grid_search_results = {}\n",
    "for name, model in models.items():\n",
    "    grid_search = GridSearchCV(model, param_grid[name], cv=5, scoring='neg_root_mean_squared_error', n_jobs=-1)\n",
    "    grid_search.fit(X_train, y_train)\n",
    "    best_estimators[name] = grid_search.best_estimator_\n",
    "    grid_search_results[name] = grid_search.cv_results_\n",
    "    print(f\"Best {name} model:\", grid_search.best_params_)\n",
    "    print(f\"Best {name} RMSE:\", -grid_search.best_score_)\n",
    "\n",
    "# Create and evaluate three different ensemble models\n",
    "\n",
    "# 1. Voting Regressor: A simple ensemble of RandomForest and SVR\n",
    "voting_model = VotingRegressor(estimators=[('RandomForest', best_estimators['RandomForest']),\n",
    "                                           ('SVR', best_estimators['SVR'])])\n",
    "voting_model.fit(X_train, y_train)\n",
    "y_pred_voting = voting_model.predict(X_test)\n",
    "voting_rmse = np.sqrt(mean_squared_error(y_test, y_pred_voting))\n",
    "print(f\"Test RMSE for Voting Regressor: {voting_rmse}\")\n",
    "\n",
    "# 2. Bagging Regressor: A simple ensemble using Bagging with RandomForest as base model\n",
    "bagging_model = BaggingRegressor(base_estimator=best_estimators['RandomForest'], n_estimators=10, random_state=34)\n",
    "bagging_model.fit(X_train, y_train)\n",
    "y_pred_bagging = bagging_model.predict(X_test)\n",
    "bagging_rmse = np.sqrt(mean_squared_error(y_test, y_pred_bagging))\n",
    "print(f\"Test RMSE for Bagging Regressor: {bagging_rmse}\")\n",
    "\n",
    "# 3. Stacking Regressor: A stacked ensemble of RandomForest and SVR, with a Linear Regression meta-model\n",
    "stacking_model = StackingRegressor(estimators=[('RandomForest', best_estimators['RandomForest']),\n",
    "                                               ('SVR', best_estimators['SVR'])],\n",
    "                                   final_estimator=LinearRegression())\n",
    "stacking_model.fit(X_train, y_train)\n",
    "y_pred_stacking = stacking_model.predict(X_test)\n",
    "stacking_rmse = np.sqrt(mean_squared_error(y_test, y_pred_stacking))\n",
    "print(f\"Test RMSE for Stacking Regressor: {stacking_rmse}\")\n",
    "\n",
    "# Evaluate the models on the test set using cross-validation\n",
    "print(\"\\nCross-validation results for the final models:\")\n",
    "cv_rmse_voting = cross_val_score(voting_model, X_train, y_train, cv=5, scoring='neg_root_mean_squared_error')\n",
    "print(f\"Cross-validated RMSE for Voting Regressor: {-np.mean(cv_rmse_voting)}\")\n",
    "\n",
    "cv_rmse_bagging = cross_val_score(bagging_model, X_train, y_train, cv=5, scoring='neg_root_mean_squared_error')\n",
    "print(f\"Cross-validated RMSE for Bagging Regressor: {-np.mean(cv_rmse_bagging)}\")\n",
    "\n",
    "cv_rmse_stacking = cross_val_score(stacking_model, X_train, y_train, cv=5, scoring='neg_root_mean_squared_error')\n",
    "print(f\"Cross-validated RMSE for Stacking Regressor: {-np.mean(cv_rmse_stacking)}\")\n",
    "\n",
    "# Evaluate on the test set for submission (final prediction for competition)\n",
    "test_data = pd.read_csv(\"Ensemble_Reg_test.csv\")\n",
    "X_test = test_data.drop(columns=['ID'])  # Drop 'ID' column for the test set\n",
    "\n",
    "# Standardize test data using the same scaler\n",
    "X_test = scaler.transform(X_test)\n",
    "\n",
    "# Make predictions on the test data for all ensemble models\n",
    "y_pred_voting = voting_model.predict(X_test)\n",
    "y_pred_bagging = bagging_model.predict(X_test)\n",
    "y_pred_stacking = stacking_model.predict(X_test)\n",
    "\n",
    "# Choose the best model for submission (in this case, Voting Regressor)\n",
    "submission = pd.DataFrame({\n",
    "    \"ID\": test_data['ID'],  # Use the original 'ID' column from the test data\n",
    "    \"y\": y_pred_voting  # Predicted values from Voting Regressor\n",
    "})\n",
    "\n",
    "# Save the submission DataFrame to a CSV file\n",
    "submission.to_csv(\"submission.csv\", index=False)"
   ]
  }
 ],
 "metadata": {
  "kaggle": {
   "accelerator": "none",
   "dataSources": [
    {
     "databundleVersionId": 10088816,
     "sourceId": 88215,
     "sourceType": "competition"
    }
   ],
   "dockerImageVersionId": 30786,
   "isGpuEnabled": false,
   "isInternetEnabled": true,
   "language": "python",
   "sourceType": "notebook"
  },
  "kernelspec": {
   "display_name": "Python 3",
   "language": "python",
   "name": "python3"
  },
  "language_info": {
   "codemirror_mode": {
    "name": "ipython",
    "version": 3
   },
   "file_extension": ".py",
   "mimetype": "text/x-python",
   "name": "python",
   "nbconvert_exporter": "python",
   "pygments_lexer": "ipython3",
   "version": "3.10.14"
  },
  "papermill": {
   "default_parameters": {},
   "duration": 98.463734,
   "end_time": "2024-11-08T09:58:19.748244",
   "environment_variables": {},
   "exception": null,
   "input_path": "__notebook__.ipynb",
   "output_path": "__notebook__.ipynb",
   "parameters": {},
   "start_time": "2024-11-08T09:56:41.284510",
   "version": "2.6.0"
  }
 },
 "nbformat": 4,
 "nbformat_minor": 5
}
