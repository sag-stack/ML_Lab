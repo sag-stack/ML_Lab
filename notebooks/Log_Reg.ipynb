{
 "cells": [
  {
   "cell_type": "code",
   "execution_count": 1,
   "id": "6e6e50bb",
   "metadata": {
    "_cell_guid": "b1076dfc-b9ad-4769-8c92-a6c4dae69d19",
    "_uuid": "8f2839f25d086af736a60e9eeb907d3b93b6e0e5",
    "execution": {
     "iopub.execute_input": "2024-09-02T17:17:24.646392Z",
     "iopub.status.busy": "2024-09-02T17:17:24.645861Z",
     "iopub.status.idle": "2024-09-02T17:17:26.850936Z",
     "shell.execute_reply": "2024-09-02T17:17:26.849568Z"
    },
    "papermill": {
     "duration": 2.21802,
     "end_time": "2024-09-02T17:17:26.854041",
     "exception": false,
     "start_time": "2024-09-02T17:17:24.636021",
     "status": "completed"
    },
    "tags": []
   },
   "outputs": [],
   "source": [
    "# Import necessary libraries\n",
    "import pandas as pd\n",
    "from sklearn.preprocessing import StandardScaler\n",
    "from sklearn.linear_model import LogisticRegression\n",
    "from sklearn.model_selection import train_test_split, GridSearchCV\n",
    "from sklearn.metrics import accuracy_score, classification_report\n",
    "from sklearn.model_selection import cross_val_score"
   ]
  },
  {
   "cell_type": "code",
   "execution_count": null,
   "id": "2805bb4a",
   "metadata": {
    "execution": {
     "iopub.execute_input": "2024-09-02T17:17:26.870076Z",
     "iopub.status.busy": "2024-09-02T17:17:26.869203Z",
     "iopub.status.idle": "2024-09-02T17:17:27.004572Z",
     "shell.execute_reply": "2024-09-02T17:17:27.002888Z"
    },
    "papermill": {
     "duration": 0.146829,
     "end_time": "2024-09-02T17:17:27.007693",
     "exception": false,
     "start_time": "2024-09-02T17:17:26.860864",
     "status": "completed"
    },
    "tags": []
   },
   "outputs": [
    {
     "data": {
      "text/html": [
       "<div>\n",
       "<style scoped>\n",
       "    .dataframe tbody tr th:only-of-type {\n",
       "        vertical-align: middle;\n",
       "    }\n",
       "\n",
       "    .dataframe tbody tr th {\n",
       "        vertical-align: top;\n",
       "    }\n",
       "\n",
       "    .dataframe thead th {\n",
       "        text-align: right;\n",
       "    }\n",
       "</style>\n",
       "<table border=\"1\" class=\"dataframe\">\n",
       "  <thead>\n",
       "    <tr style=\"text-align: right;\">\n",
       "      <th></th>\n",
       "      <th>ID</th>\n",
       "      <th>totalSales</th>\n",
       "      <th>CompetitorPrice</th>\n",
       "      <th>Income</th>\n",
       "      <th>Advertising</th>\n",
       "      <th>Population</th>\n",
       "      <th>Price</th>\n",
       "      <th>Location</th>\n",
       "      <th>Age</th>\n",
       "      <th>Education</th>\n",
       "      <th>Urban</th>\n",
       "      <th>US</th>\n",
       "    </tr>\n",
       "  </thead>\n",
       "  <tbody>\n",
       "    <tr>\n",
       "      <th>0</th>\n",
       "      <td>1</td>\n",
       "      <td>6.01</td>\n",
       "      <td>131</td>\n",
       "      <td>29</td>\n",
       "      <td>11</td>\n",
       "      <td>335</td>\n",
       "      <td>127</td>\n",
       "      <td>Bad</td>\n",
       "      <td>33</td>\n",
       "      <td>12</td>\n",
       "      <td>Yes</td>\n",
       "      <td>Yes</td>\n",
       "    </tr>\n",
       "    <tr>\n",
       "      <th>1</th>\n",
       "      <td>2</td>\n",
       "      <td>6.50</td>\n",
       "      <td>148</td>\n",
       "      <td>51</td>\n",
       "      <td>16</td>\n",
       "      <td>148</td>\n",
       "      <td>150</td>\n",
       "      <td>Medium</td>\n",
       "      <td>58</td>\n",
       "      <td>17</td>\n",
       "      <td>No</td>\n",
       "      <td>Yes</td>\n",
       "    </tr>\n",
       "    <tr>\n",
       "      <th>2</th>\n",
       "      <td>3</td>\n",
       "      <td>7.70</td>\n",
       "      <td>118</td>\n",
       "      <td>71</td>\n",
       "      <td>12</td>\n",
       "      <td>44</td>\n",
       "      <td>89</td>\n",
       "      <td>Medium</td>\n",
       "      <td>67</td>\n",
       "      <td>18</td>\n",
       "      <td>No</td>\n",
       "      <td>Yes</td>\n",
       "    </tr>\n",
       "    <tr>\n",
       "      <th>3</th>\n",
       "      <td>4</td>\n",
       "      <td>7.78</td>\n",
       "      <td>86</td>\n",
       "      <td>54</td>\n",
       "      <td>0</td>\n",
       "      <td>497</td>\n",
       "      <td>64</td>\n",
       "      <td>Bad</td>\n",
       "      <td>33</td>\n",
       "      <td>12</td>\n",
       "      <td>Yes</td>\n",
       "      <td>No</td>\n",
       "    </tr>\n",
       "    <tr>\n",
       "      <th>4</th>\n",
       "      <td>5</td>\n",
       "      <td>11.82</td>\n",
       "      <td>113</td>\n",
       "      <td>66</td>\n",
       "      <td>16</td>\n",
       "      <td>322</td>\n",
       "      <td>74</td>\n",
       "      <td>Good</td>\n",
       "      <td>76</td>\n",
       "      <td>15</td>\n",
       "      <td>Yes</td>\n",
       "      <td>Yes</td>\n",
       "    </tr>\n",
       "  </tbody>\n",
       "</table>\n",
       "</div>"
      ],
      "text/plain": [
       "   ID  totalSales  CompetitorPrice  Income  Advertising  Population  Price  \\\n",
       "0   1        6.01              131      29           11         335    127   \n",
       "1   2        6.50              148      51           16         148    150   \n",
       "2   3        7.70              118      71           12          44     89   \n",
       "3   4        7.78               86      54            0         497     64   \n",
       "4   5       11.82              113      66           16         322     74   \n",
       "\n",
       "  Location  Age  Education Urban   US  \n",
       "0      Bad   33         12   Yes  Yes  \n",
       "1   Medium   58         17    No  Yes  \n",
       "2   Medium   67         18    No  Yes  \n",
       "3      Bad   33         12   Yes   No  \n",
       "4     Good   76         15   Yes  Yes  "
      ]
     },
     "execution_count": 2,
     "metadata": {},
     "output_type": "execute_result"
    }
   ],
   "source": [
    "# Load the dataset\n",
    "data_path = 'Log_Reg_train.csv'\n",
    "df_train = pd.read_csv(data_path)\n",
    "\n",
    "df_train.head()"
   ]
  },
  {
   "cell_type": "code",
   "execution_count": 3,
   "id": "9d9c3f38",
   "metadata": {
    "execution": {
     "iopub.execute_input": "2024-09-02T17:17:27.023723Z",
     "iopub.status.busy": "2024-09-02T17:17:27.023221Z",
     "iopub.status.idle": "2024-09-02T17:17:27.050482Z",
     "shell.execute_reply": "2024-09-02T17:17:27.048888Z"
    },
    "papermill": {
     "duration": 0.038569,
     "end_time": "2024-09-02T17:17:27.053450",
     "exception": false,
     "start_time": "2024-09-02T17:17:27.014881",
     "status": "completed"
    },
    "tags": []
   },
   "outputs": [],
   "source": [
    "df_train['Category'] = df_train['totalSales'].apply(lambda x: 1 if x <= 5 else (2 if x <= 10 else 3))\n",
    "df_train = pd.get_dummies(df_train, columns=['Location', 'Urban', 'US'], drop_first=True)"
   ]
  },
  {
   "cell_type": "code",
   "execution_count": 4,
   "id": "c7ef3651",
   "metadata": {
    "execution": {
     "iopub.execute_input": "2024-09-02T17:17:27.069842Z",
     "iopub.status.busy": "2024-09-02T17:17:27.069192Z",
     "iopub.status.idle": "2024-09-02T17:17:27.090023Z",
     "shell.execute_reply": "2024-09-02T17:17:27.088311Z"
    },
    "papermill": {
     "duration": 0.033543,
     "end_time": "2024-09-02T17:17:27.093967",
     "exception": false,
     "start_time": "2024-09-02T17:17:27.060424",
     "status": "completed"
    },
    "tags": []
   },
   "outputs": [],
   "source": [
    "# Normalize numeric features\n",
    "scaler = StandardScaler()\n",
    "numeric_cols = ['CompetitorPrice', 'Income', 'Advertising', 'Population', 'Price', 'Age', 'Education']\n",
    "df_train[numeric_cols] = scaler.fit_transform(df_train[numeric_cols])"
   ]
  },
  {
   "cell_type": "code",
   "execution_count": 5,
   "id": "cd1aca47",
   "metadata": {
    "execution": {
     "iopub.execute_input": "2024-09-02T17:17:27.115793Z",
     "iopub.status.busy": "2024-09-02T17:17:27.115326Z",
     "iopub.status.idle": "2024-09-02T17:17:27.123465Z",
     "shell.execute_reply": "2024-09-02T17:17:27.122055Z"
    },
    "papermill": {
     "duration": 0.021428,
     "end_time": "2024-09-02T17:17:27.126403",
     "exception": false,
     "start_time": "2024-09-02T17:17:27.104975",
     "status": "completed"
    },
    "tags": []
   },
   "outputs": [],
   "source": [
    "# Define features (X) and target (y)\n",
    "X_features = df_train.drop(['ID', 'totalSales', 'Category'], axis=1)\n",
    "y_target = df_train['Category']"
   ]
  },
  {
   "cell_type": "code",
   "execution_count": 6,
   "id": "84edf211",
   "metadata": {
    "execution": {
     "iopub.execute_input": "2024-09-02T17:17:27.143361Z",
     "iopub.status.busy": "2024-09-02T17:17:27.142756Z",
     "iopub.status.idle": "2024-09-02T17:17:27.158008Z",
     "shell.execute_reply": "2024-09-02T17:17:27.156596Z"
    },
    "papermill": {
     "duration": 0.027187,
     "end_time": "2024-09-02T17:17:27.160988",
     "exception": false,
     "start_time": "2024-09-02T17:17:27.133801",
     "status": "completed"
    },
    "tags": []
   },
   "outputs": [],
   "source": [
    "# Split the data into training and test sets\n",
    "X_train, X_test, y_train, y_test = train_test_split(X_features, y_target, test_size=0.2, random_state=43, stratify=y_target)"
   ]
  },
  {
   "cell_type": "code",
   "execution_count": 7,
   "id": "7d73ab0f",
   "metadata": {
    "execution": {
     "iopub.execute_input": "2024-09-02T17:17:27.177287Z",
     "iopub.status.busy": "2024-09-02T17:17:27.176791Z",
     "iopub.status.idle": "2024-09-02T17:17:27.202265Z",
     "shell.execute_reply": "2024-09-02T17:17:27.200774Z"
    },
    "papermill": {
     "duration": 0.037133,
     "end_time": "2024-09-02T17:17:27.205234",
     "exception": false,
     "start_time": "2024-09-02T17:17:27.168101",
     "status": "completed"
    },
    "tags": []
   },
   "outputs": [
    {
     "data": {
      "text/html": [
       "<style>#sk-container-id-1 {color: black;background-color: white;}#sk-container-id-1 pre{padding: 0;}#sk-container-id-1 div.sk-toggleable {background-color: white;}#sk-container-id-1 label.sk-toggleable__label {cursor: pointer;display: block;width: 100%;margin-bottom: 0;padding: 0.3em;box-sizing: border-box;text-align: center;}#sk-container-id-1 label.sk-toggleable__label-arrow:before {content: \"▸\";float: left;margin-right: 0.25em;color: #696969;}#sk-container-id-1 label.sk-toggleable__label-arrow:hover:before {color: black;}#sk-container-id-1 div.sk-estimator:hover label.sk-toggleable__label-arrow:before {color: black;}#sk-container-id-1 div.sk-toggleable__content {max-height: 0;max-width: 0;overflow: hidden;text-align: left;background-color: #f0f8ff;}#sk-container-id-1 div.sk-toggleable__content pre {margin: 0.2em;color: black;border-radius: 0.25em;background-color: #f0f8ff;}#sk-container-id-1 input.sk-toggleable__control:checked~div.sk-toggleable__content {max-height: 200px;max-width: 100%;overflow: auto;}#sk-container-id-1 input.sk-toggleable__control:checked~label.sk-toggleable__label-arrow:before {content: \"▾\";}#sk-container-id-1 div.sk-estimator input.sk-toggleable__control:checked~label.sk-toggleable__label {background-color: #d4ebff;}#sk-container-id-1 div.sk-label input.sk-toggleable__control:checked~label.sk-toggleable__label {background-color: #d4ebff;}#sk-container-id-1 input.sk-hidden--visually {border: 0;clip: rect(1px 1px 1px 1px);clip: rect(1px, 1px, 1px, 1px);height: 1px;margin: -1px;overflow: hidden;padding: 0;position: absolute;width: 1px;}#sk-container-id-1 div.sk-estimator {font-family: monospace;background-color: #f0f8ff;border: 1px dotted black;border-radius: 0.25em;box-sizing: border-box;margin-bottom: 0.5em;}#sk-container-id-1 div.sk-estimator:hover {background-color: #d4ebff;}#sk-container-id-1 div.sk-parallel-item::after {content: \"\";width: 100%;border-bottom: 1px solid gray;flex-grow: 1;}#sk-container-id-1 div.sk-label:hover label.sk-toggleable__label {background-color: #d4ebff;}#sk-container-id-1 div.sk-serial::before {content: \"\";position: absolute;border-left: 1px solid gray;box-sizing: border-box;top: 0;bottom: 0;left: 50%;z-index: 0;}#sk-container-id-1 div.sk-serial {display: flex;flex-direction: column;align-items: center;background-color: white;padding-right: 0.2em;padding-left: 0.2em;position: relative;}#sk-container-id-1 div.sk-item {position: relative;z-index: 1;}#sk-container-id-1 div.sk-parallel {display: flex;align-items: stretch;justify-content: center;background-color: white;position: relative;}#sk-container-id-1 div.sk-item::before, #sk-container-id-1 div.sk-parallel-item::before {content: \"\";position: absolute;border-left: 1px solid gray;box-sizing: border-box;top: 0;bottom: 0;left: 50%;z-index: -1;}#sk-container-id-1 div.sk-parallel-item {display: flex;flex-direction: column;z-index: 1;position: relative;background-color: white;}#sk-container-id-1 div.sk-parallel-item:first-child::after {align-self: flex-end;width: 50%;}#sk-container-id-1 div.sk-parallel-item:last-child::after {align-self: flex-start;width: 50%;}#sk-container-id-1 div.sk-parallel-item:only-child::after {width: 0;}#sk-container-id-1 div.sk-dashed-wrapped {border: 1px dashed gray;margin: 0 0.4em 0.5em 0.4em;box-sizing: border-box;padding-bottom: 0.4em;background-color: white;}#sk-container-id-1 div.sk-label label {font-family: monospace;font-weight: bold;display: inline-block;line-height: 1.2em;}#sk-container-id-1 div.sk-label-container {text-align: center;}#sk-container-id-1 div.sk-container {/* jupyter's `normalize.less` sets `[hidden] { display: none; }` but bootstrap.min.css set `[hidden] { display: none !important; }` so we also need the `!important` here to be able to override the default hidden behavior on the sphinx rendered scikit-learn.org. See: https://github.com/scikit-learn/scikit-learn/issues/21755 */display: inline-block !important;position: relative;}#sk-container-id-1 div.sk-text-repr-fallback {display: none;}</style><div id=\"sk-container-id-1\" class=\"sk-top-container\"><div class=\"sk-text-repr-fallback\"><pre>LogisticRegression(multi_class=&#x27;ovr&#x27;, solver=&#x27;liblinear&#x27;)</pre><b>In a Jupyter environment, please rerun this cell to show the HTML representation or trust the notebook. <br />On GitHub, the HTML representation is unable to render, please try loading this page with nbviewer.org.</b></div><div class=\"sk-container\" hidden><div class=\"sk-item\"><div class=\"sk-estimator sk-toggleable\"><input class=\"sk-toggleable__control sk-hidden--visually\" id=\"sk-estimator-id-1\" type=\"checkbox\" checked><label for=\"sk-estimator-id-1\" class=\"sk-toggleable__label sk-toggleable__label-arrow\">LogisticRegression</label><div class=\"sk-toggleable__content\"><pre>LogisticRegression(multi_class=&#x27;ovr&#x27;, solver=&#x27;liblinear&#x27;)</pre></div></div></div></div></div>"
      ],
      "text/plain": [
       "LogisticRegression(multi_class='ovr', solver='liblinear')"
      ]
     },
     "execution_count": 7,
     "metadata": {},
     "output_type": "execute_result"
    }
   ],
   "source": [
    "# Initialize Logistic Regression model\n",
    "logistic_model = LogisticRegression(multi_class='ovr', solver='liblinear')\n",
    "logistic_model.fit(X_train, y_train)"
   ]
  },
  {
   "cell_type": "code",
   "execution_count": 8,
   "id": "5db48d0c",
   "metadata": {
    "execution": {
     "iopub.execute_input": "2024-09-02T17:17:27.222092Z",
     "iopub.status.busy": "2024-09-02T17:17:27.221206Z",
     "iopub.status.idle": "2024-09-02T17:17:27.228041Z",
     "shell.execute_reply": "2024-09-02T17:17:27.226612Z"
    },
    "papermill": {
     "duration": 0.018123,
     "end_time": "2024-09-02T17:17:27.230580",
     "exception": false,
     "start_time": "2024-09-02T17:17:27.212457",
     "status": "completed"
    },
    "tags": []
   },
   "outputs": [],
   "source": [
    "# Set up hyperparameter grid for GridSearchCV\n",
    "hyperparameter_grid = {\n",
    "    'penalty': ['l1', 'l2'],\n",
    "    'C': [0.001,0.1, 1, 10, 100],\n",
    "    'solver': ['liblinear']\n",
    "}"
   ]
  },
  {
   "cell_type": "code",
   "execution_count": 9,
   "id": "64f67616",
   "metadata": {
    "execution": {
     "iopub.execute_input": "2024-09-02T17:17:27.247679Z",
     "iopub.status.busy": "2024-09-02T17:17:27.246635Z",
     "iopub.status.idle": "2024-09-02T17:17:27.609910Z",
     "shell.execute_reply": "2024-09-02T17:17:27.608326Z"
    },
    "papermill": {
     "duration": 0.374998,
     "end_time": "2024-09-02T17:17:27.612819",
     "exception": false,
     "start_time": "2024-09-02T17:17:27.237821",
     "status": "completed"
    },
    "tags": []
   },
   "outputs": [
    {
     "data": {
      "text/html": [
       "<style>#sk-container-id-2 {color: black;background-color: white;}#sk-container-id-2 pre{padding: 0;}#sk-container-id-2 div.sk-toggleable {background-color: white;}#sk-container-id-2 label.sk-toggleable__label {cursor: pointer;display: block;width: 100%;margin-bottom: 0;padding: 0.3em;box-sizing: border-box;text-align: center;}#sk-container-id-2 label.sk-toggleable__label-arrow:before {content: \"▸\";float: left;margin-right: 0.25em;color: #696969;}#sk-container-id-2 label.sk-toggleable__label-arrow:hover:before {color: black;}#sk-container-id-2 div.sk-estimator:hover label.sk-toggleable__label-arrow:before {color: black;}#sk-container-id-2 div.sk-toggleable__content {max-height: 0;max-width: 0;overflow: hidden;text-align: left;background-color: #f0f8ff;}#sk-container-id-2 div.sk-toggleable__content pre {margin: 0.2em;color: black;border-radius: 0.25em;background-color: #f0f8ff;}#sk-container-id-2 input.sk-toggleable__control:checked~div.sk-toggleable__content {max-height: 200px;max-width: 100%;overflow: auto;}#sk-container-id-2 input.sk-toggleable__control:checked~label.sk-toggleable__label-arrow:before {content: \"▾\";}#sk-container-id-2 div.sk-estimator input.sk-toggleable__control:checked~label.sk-toggleable__label {background-color: #d4ebff;}#sk-container-id-2 div.sk-label input.sk-toggleable__control:checked~label.sk-toggleable__label {background-color: #d4ebff;}#sk-container-id-2 input.sk-hidden--visually {border: 0;clip: rect(1px 1px 1px 1px);clip: rect(1px, 1px, 1px, 1px);height: 1px;margin: -1px;overflow: hidden;padding: 0;position: absolute;width: 1px;}#sk-container-id-2 div.sk-estimator {font-family: monospace;background-color: #f0f8ff;border: 1px dotted black;border-radius: 0.25em;box-sizing: border-box;margin-bottom: 0.5em;}#sk-container-id-2 div.sk-estimator:hover {background-color: #d4ebff;}#sk-container-id-2 div.sk-parallel-item::after {content: \"\";width: 100%;border-bottom: 1px solid gray;flex-grow: 1;}#sk-container-id-2 div.sk-label:hover label.sk-toggleable__label {background-color: #d4ebff;}#sk-container-id-2 div.sk-serial::before {content: \"\";position: absolute;border-left: 1px solid gray;box-sizing: border-box;top: 0;bottom: 0;left: 50%;z-index: 0;}#sk-container-id-2 div.sk-serial {display: flex;flex-direction: column;align-items: center;background-color: white;padding-right: 0.2em;padding-left: 0.2em;position: relative;}#sk-container-id-2 div.sk-item {position: relative;z-index: 1;}#sk-container-id-2 div.sk-parallel {display: flex;align-items: stretch;justify-content: center;background-color: white;position: relative;}#sk-container-id-2 div.sk-item::before, #sk-container-id-2 div.sk-parallel-item::before {content: \"\";position: absolute;border-left: 1px solid gray;box-sizing: border-box;top: 0;bottom: 0;left: 50%;z-index: -1;}#sk-container-id-2 div.sk-parallel-item {display: flex;flex-direction: column;z-index: 1;position: relative;background-color: white;}#sk-container-id-2 div.sk-parallel-item:first-child::after {align-self: flex-end;width: 50%;}#sk-container-id-2 div.sk-parallel-item:last-child::after {align-self: flex-start;width: 50%;}#sk-container-id-2 div.sk-parallel-item:only-child::after {width: 0;}#sk-container-id-2 div.sk-dashed-wrapped {border: 1px dashed gray;margin: 0 0.4em 0.5em 0.4em;box-sizing: border-box;padding-bottom: 0.4em;background-color: white;}#sk-container-id-2 div.sk-label label {font-family: monospace;font-weight: bold;display: inline-block;line-height: 1.2em;}#sk-container-id-2 div.sk-label-container {text-align: center;}#sk-container-id-2 div.sk-container {/* jupyter's `normalize.less` sets `[hidden] { display: none; }` but bootstrap.min.css set `[hidden] { display: none !important; }` so we also need the `!important` here to be able to override the default hidden behavior on the sphinx rendered scikit-learn.org. See: https://github.com/scikit-learn/scikit-learn/issues/21755 */display: inline-block !important;position: relative;}#sk-container-id-2 div.sk-text-repr-fallback {display: none;}</style><div id=\"sk-container-id-2\" class=\"sk-top-container\"><div class=\"sk-text-repr-fallback\"><pre>GridSearchCV(cv=3,\n",
       "             estimator=LogisticRegression(multi_class=&#x27;ovr&#x27;,\n",
       "                                          solver=&#x27;liblinear&#x27;),\n",
       "             param_grid={&#x27;C&#x27;: [0.001, 0.1, 1, 10, 100], &#x27;penalty&#x27;: [&#x27;l1&#x27;, &#x27;l2&#x27;],\n",
       "                         &#x27;solver&#x27;: [&#x27;liblinear&#x27;]},\n",
       "             scoring=&#x27;accuracy&#x27;)</pre><b>In a Jupyter environment, please rerun this cell to show the HTML representation or trust the notebook. <br />On GitHub, the HTML representation is unable to render, please try loading this page with nbviewer.org.</b></div><div class=\"sk-container\" hidden><div class=\"sk-item sk-dashed-wrapped\"><div class=\"sk-label-container\"><div class=\"sk-label sk-toggleable\"><input class=\"sk-toggleable__control sk-hidden--visually\" id=\"sk-estimator-id-2\" type=\"checkbox\" ><label for=\"sk-estimator-id-2\" class=\"sk-toggleable__label sk-toggleable__label-arrow\">GridSearchCV</label><div class=\"sk-toggleable__content\"><pre>GridSearchCV(cv=3,\n",
       "             estimator=LogisticRegression(multi_class=&#x27;ovr&#x27;,\n",
       "                                          solver=&#x27;liblinear&#x27;),\n",
       "             param_grid={&#x27;C&#x27;: [0.001, 0.1, 1, 10, 100], &#x27;penalty&#x27;: [&#x27;l1&#x27;, &#x27;l2&#x27;],\n",
       "                         &#x27;solver&#x27;: [&#x27;liblinear&#x27;]},\n",
       "             scoring=&#x27;accuracy&#x27;)</pre></div></div></div><div class=\"sk-parallel\"><div class=\"sk-parallel-item\"><div class=\"sk-item\"><div class=\"sk-label-container\"><div class=\"sk-label sk-toggleable\"><input class=\"sk-toggleable__control sk-hidden--visually\" id=\"sk-estimator-id-3\" type=\"checkbox\" ><label for=\"sk-estimator-id-3\" class=\"sk-toggleable__label sk-toggleable__label-arrow\">estimator: LogisticRegression</label><div class=\"sk-toggleable__content\"><pre>LogisticRegression(multi_class=&#x27;ovr&#x27;, solver=&#x27;liblinear&#x27;)</pre></div></div></div><div class=\"sk-serial\"><div class=\"sk-item\"><div class=\"sk-estimator sk-toggleable\"><input class=\"sk-toggleable__control sk-hidden--visually\" id=\"sk-estimator-id-4\" type=\"checkbox\" ><label for=\"sk-estimator-id-4\" class=\"sk-toggleable__label sk-toggleable__label-arrow\">LogisticRegression</label><div class=\"sk-toggleable__content\"><pre>LogisticRegression(multi_class=&#x27;ovr&#x27;, solver=&#x27;liblinear&#x27;)</pre></div></div></div></div></div></div></div></div></div></div>"
      ],
      "text/plain": [
       "GridSearchCV(cv=3,\n",
       "             estimator=LogisticRegression(multi_class='ovr',\n",
       "                                          solver='liblinear'),\n",
       "             param_grid={'C': [0.001, 0.1, 1, 10, 100], 'penalty': ['l1', 'l2'],\n",
       "                         'solver': ['liblinear']},\n",
       "             scoring='accuracy')"
      ]
     },
     "execution_count": 9,
     "metadata": {},
     "output_type": "execute_result"
    }
   ],
   "source": [
    "# Perform grid search to find the best model\n",
    "grid_search_cv = GridSearchCV(logistic_model, hyperparameter_grid, cv=3, scoring='accuracy')\n",
    "grid_search_cv.fit(X_train, y_train)"
   ]
  },
  {
   "cell_type": "code",
   "execution_count": 10,
   "id": "f25c6c7f",
   "metadata": {
    "execution": {
     "iopub.execute_input": "2024-09-02T17:17:27.631499Z",
     "iopub.status.busy": "2024-09-02T17:17:27.630884Z",
     "iopub.status.idle": "2024-09-02T17:17:27.642399Z",
     "shell.execute_reply": "2024-09-02T17:17:27.640685Z"
    },
    "papermill": {
     "duration": 0.024652,
     "end_time": "2024-09-02T17:17:27.645528",
     "exception": false,
     "start_time": "2024-09-02T17:17:27.620876",
     "status": "completed"
    },
    "tags": []
   },
   "outputs": [],
   "source": [
    "best_logistic_model = grid_search_cv.best_estimator_\n",
    "\n",
    "# Predict on the test set\n",
    "y_predicted = best_logistic_model.predict(X_test)"
   ]
  },
  {
   "cell_type": "code",
   "execution_count": 11,
   "id": "b0ad3b41",
   "metadata": {
    "execution": {
     "iopub.execute_input": "2024-09-02T17:17:27.663782Z",
     "iopub.status.busy": "2024-09-02T17:17:27.662331Z",
     "iopub.status.idle": "2024-09-02T17:17:27.685271Z",
     "shell.execute_reply": "2024-09-02T17:17:27.683376Z"
    },
    "papermill": {
     "duration": 0.035286,
     "end_time": "2024-09-02T17:17:27.688279",
     "exception": false,
     "start_time": "2024-09-02T17:17:27.652993",
     "status": "completed"
    },
    "tags": []
   },
   "outputs": [
    {
     "name": "stdout",
     "output_type": "stream",
     "text": [
      "Accuracy: 0.8285714285714286\n",
      "              precision    recall  f1-score   support\n",
      "\n",
      "           1       0.70      0.54      0.61        13\n",
      "           2       0.83      0.91      0.87        43\n",
      "           3       0.92      0.86      0.89        14\n",
      "\n",
      "    accuracy                           0.83        70\n",
      "   macro avg       0.82      0.77      0.79        70\n",
      "weighted avg       0.82      0.83      0.82        70\n",
      "\n"
     ]
    }
   ],
   "source": [
    "# Evaluate the model\n",
    "print(f'Accuracy: {accuracy_score(y_test, y_predicted)}')\n",
    "print(classification_report(y_test, y_predicted))"
   ]
  },
  {
   "cell_type": "code",
   "execution_count": 12,
   "id": "4c80c829",
   "metadata": {
    "execution": {
     "iopub.execute_input": "2024-09-02T17:17:27.705975Z",
     "iopub.status.busy": "2024-09-02T17:17:27.705335Z",
     "iopub.status.idle": "2024-09-02T17:17:27.773625Z",
     "shell.execute_reply": "2024-09-02T17:17:27.771627Z"
    },
    "papermill": {
     "duration": 0.080649,
     "end_time": "2024-09-02T17:17:27.776639",
     "exception": false,
     "start_time": "2024-09-02T17:17:27.695990",
     "status": "completed"
    },
    "tags": []
   },
   "outputs": [
    {
     "name": "stdout",
     "output_type": "stream",
     "text": [
      "Cross-Validation Accuracy: 0.8050152274290205\n"
     ]
    }
   ],
   "source": [
    "# Perform cross-validation\n",
    "cv_scores = cross_val_score(best_logistic_model, X_features, y_target, cv=3, scoring='accuracy')\n",
    "print(f'Cross-Validation Accuracy: {cv_scores.mean()}')"
   ]
  },
  {
   "cell_type": "code",
   "execution_count": null,
   "id": "e90de7b6",
   "metadata": {
    "execution": {
     "iopub.execute_input": "2024-09-02T17:17:27.796558Z",
     "iopub.status.busy": "2024-09-02T17:17:27.795847Z",
     "iopub.status.idle": "2024-09-02T17:17:27.810711Z",
     "shell.execute_reply": "2024-09-02T17:17:27.809292Z"
    },
    "papermill": {
     "duration": 0.029398,
     "end_time": "2024-09-02T17:17:27.813545",
     "exception": false,
     "start_time": "2024-09-02T17:17:27.784147",
     "status": "completed"
    },
    "tags": []
   },
   "outputs": [],
   "source": [
    "test_data_path = 'Log_Reg_test.csv'\n",
    "df_test = pd.read_csv(test_data_path)"
   ]
  },
  {
   "cell_type": "code",
   "execution_count": 14,
   "id": "307d5391",
   "metadata": {
    "execution": {
     "iopub.execute_input": "2024-09-02T17:17:27.830429Z",
     "iopub.status.busy": "2024-09-02T17:17:27.829904Z",
     "iopub.status.idle": "2024-09-02T17:17:27.848910Z",
     "shell.execute_reply": "2024-09-02T17:17:27.847564Z"
    },
    "papermill": {
     "duration": 0.03099,
     "end_time": "2024-09-02T17:17:27.851904",
     "exception": false,
     "start_time": "2024-09-02T17:17:27.820914",
     "status": "completed"
    },
    "tags": []
   },
   "outputs": [],
   "source": [
    "# Preserve the ID column for submission\n",
    "test_ID = df_test.ID\n",
    "\n",
    "# Display the first few rows of the test dataframe\n",
    "df_test.head()\n",
    "\n",
    "# Convert categorical variables into dummy/indicator variables for the test set\n",
    "df_test = pd.get_dummies(df_test, columns=['Location', 'Urban', 'US'], drop_first=True)\n",
    "\n",
    "# Normalize numeric features in the test set\n",
    "df_test[numeric_cols] = scaler.transform(df_test[numeric_cols])"
   ]
  },
  {
   "cell_type": "code",
   "execution_count": 15,
   "id": "1ede8a82",
   "metadata": {
    "execution": {
     "iopub.execute_input": "2024-09-02T17:17:27.871856Z",
     "iopub.status.busy": "2024-09-02T17:17:27.870625Z",
     "iopub.status.idle": "2024-09-02T17:17:27.877428Z",
     "shell.execute_reply": "2024-09-02T17:17:27.875942Z"
    },
    "papermill": {
     "duration": 0.020184,
     "end_time": "2024-09-02T17:17:27.880551",
     "exception": false,
     "start_time": "2024-09-02T17:17:27.860367",
     "status": "completed"
    },
    "tags": []
   },
   "outputs": [],
   "source": [
    "# Handle any missing columns in the test set that were in the training set\n",
    "missing_columns = set(X_train.columns) - set(df_test.columns)\n",
    "for col in missing_columns:\n",
    "    df_test[col] = 0"
   ]
  },
  {
   "cell_type": "code",
   "execution_count": 16,
   "id": "60c41714",
   "metadata": {
    "execution": {
     "iopub.execute_input": "2024-09-02T17:17:27.898413Z",
     "iopub.status.busy": "2024-09-02T17:17:27.897944Z",
     "iopub.status.idle": "2024-09-02T17:17:27.909990Z",
     "shell.execute_reply": "2024-09-02T17:17:27.908819Z"
    },
    "papermill": {
     "duration": 0.024249,
     "end_time": "2024-09-02T17:17:27.912722",
     "exception": false,
     "start_time": "2024-09-02T17:17:27.888473",
     "status": "completed"
    },
    "tags": []
   },
   "outputs": [],
   "source": [
    "# Ensure the test set has the same columns as the training set\n",
    "df_test = df_test[X_train.columns]\n",
    "\n",
    "# Predict categories for the test set\n",
    "test_predictions = best_logistic_model.predict(df_test)\n",
    "\n",
    "# Create a submission dataframe\n",
    "submission_df = pd.DataFrame({\n",
    "    'ID': test_ID,\n",
    "    'Category': test_predictions\n",
    "})"
   ]
  },
  {
   "cell_type": "code",
   "execution_count": 17,
   "id": "de658592",
   "metadata": {
    "execution": {
     "iopub.execute_input": "2024-09-02T17:17:27.930706Z",
     "iopub.status.busy": "2024-09-02T17:17:27.930225Z",
     "iopub.status.idle": "2024-09-02T17:17:27.939851Z",
     "shell.execute_reply": "2024-09-02T17:17:27.938576Z"
    },
    "papermill": {
     "duration": 0.021769,
     "end_time": "2024-09-02T17:17:27.942462",
     "exception": false,
     "start_time": "2024-09-02T17:17:27.920693",
     "status": "completed"
    },
    "tags": []
   },
   "outputs": [
    {
     "name": "stdout",
     "output_type": "stream",
     "text": [
      "Submission file 'submission.csv' created successfully.\n"
     ]
    }
   ],
   "source": [
    "# Save the submission dataframe to a CSV file\n",
    "submission_df.to_csv('submission.csv', index=False)\n",
    "print(\"Submission file 'submission.csv' created successfully.\")"
   ]
  }
 ],
 "metadata": {
  "kaggle": {
   "accelerator": "none",
   "dataSources": [
    {
     "databundleVersionId": 9415838,
     "sourceId": 84221,
     "sourceType": "competition"
    }
   ],
   "dockerImageVersionId": 30761,
   "isGpuEnabled": false,
   "isInternetEnabled": true,
   "language": "python",
   "sourceType": "notebook"
  },
  "kernelspec": {
   "display_name": "Python 3",
   "language": "python",
   "name": "python3"
  },
  "language_info": {
   "codemirror_mode": {
    "name": "ipython",
    "version": 3
   },
   "file_extension": ".py",
   "mimetype": "text/x-python",
   "name": "python",
   "nbconvert_exporter": "python",
   "pygments_lexer": "ipython3",
   "version": "3.10.14"
  },
  "papermill": {
   "default_parameters": {},
   "duration": 7.547454,
   "end_time": "2024-09-02T17:17:28.876388",
   "environment_variables": {},
   "exception": null,
   "input_path": "__notebook__.ipynb",
   "output_path": "__notebook__.ipynb",
   "parameters": {},
   "start_time": "2024-09-02T17:17:21.328934",
   "version": "2.6.0"
  }
 },
 "nbformat": 4,
 "nbformat_minor": 5
}
